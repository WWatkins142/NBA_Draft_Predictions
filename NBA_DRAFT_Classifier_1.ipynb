{
 "cells": [
  {
   "cell_type": "code",
   "execution_count": 1,
   "id": "2630ba8a",
   "metadata": {},
   "outputs": [],
   "source": [
    "from matplotlib import pyplot as plt\n",
    "from sklearn.datasets import make_classification\n",
    "import numpy as np\n",
    "import pandas as pd\n",
    "from sklearn.ensemble import RandomForestClassifier\n",
    "from sklearn.linear_model import LogisticRegression\n",
    "from sklearn.model_selection import train_test_split\n",
    "from sklearn.preprocessing import StandardScaler\n",
    "from sklearn.cluster import KMeans"
   ]
  },
  {
   "cell_type": "code",
   "execution_count": 2,
   "id": "3b8c354e",
   "metadata": {},
   "outputs": [
    {
     "data": {
      "text/html": [
       "<div>\n",
       "<style scoped>\n",
       "    .dataframe tbody tr th:only-of-type {\n",
       "        vertical-align: middle;\n",
       "    }\n",
       "\n",
       "    .dataframe tbody tr th {\n",
       "        vertical-align: top;\n",
       "    }\n",
       "\n",
       "    .dataframe thead th {\n",
       "        text-align: right;\n",
       "    }\n",
       "</style>\n",
       "<table border=\"1\" class=\"dataframe\">\n",
       "  <thead>\n",
       "    <tr style=\"text-align: right;\">\n",
       "      <th></th>\n",
       "      <th>Unnamed: 0</th>\n",
       "      <th>player_name</th>\n",
       "      <th>team_x</th>\n",
       "      <th>conf</th>\n",
       "      <th>GP</th>\n",
       "      <th>Min_per</th>\n",
       "      <th>Ortg</th>\n",
       "      <th>usg</th>\n",
       "      <th>eFG</th>\n",
       "      <th>TS_per</th>\n",
       "      <th>...</th>\n",
       "      <th>stl</th>\n",
       "      <th>blk</th>\n",
       "      <th>pts</th>\n",
       "      <th>Unnamed: 64</th>\n",
       "      <th>Unnamed: 65</th>\n",
       "      <th>nba team</th>\n",
       "      <th>team_y</th>\n",
       "      <th>year_y</th>\n",
       "      <th>ROUND NUMBER</th>\n",
       "      <th>ROUND PICK</th>\n",
       "    </tr>\n",
       "  </thead>\n",
       "  <tbody>\n",
       "    <tr>\n",
       "      <th>0</th>\n",
       "      <td>0</td>\n",
       "      <td>DeAndrae Ross</td>\n",
       "      <td>South Alabama</td>\n",
       "      <td>SB</td>\n",
       "      <td>26</td>\n",
       "      <td>29.5</td>\n",
       "      <td>97.3</td>\n",
       "      <td>16.6</td>\n",
       "      <td>42.5</td>\n",
       "      <td>44.43</td>\n",
       "      <td>...</td>\n",
       "      <td>0.3462</td>\n",
       "      <td>0.0385</td>\n",
       "      <td>3.8846</td>\n",
       "      <td>NaN</td>\n",
       "      <td>6.22026</td>\n",
       "      <td>NaN</td>\n",
       "      <td>NaN</td>\n",
       "      <td>NaN</td>\n",
       "      <td>NaN</td>\n",
       "      <td>NaN</td>\n",
       "    </tr>\n",
       "    <tr>\n",
       "      <th>1</th>\n",
       "      <td>1</td>\n",
       "      <td>DeAndrae Ross</td>\n",
       "      <td>Troy</td>\n",
       "      <td>SB</td>\n",
       "      <td>7</td>\n",
       "      <td>11.5</td>\n",
       "      <td>67.1</td>\n",
       "      <td>16.9</td>\n",
       "      <td>34.5</td>\n",
       "      <td>36.11</td>\n",
       "      <td>...</td>\n",
       "      <td>0.1429</td>\n",
       "      <td>0.0000</td>\n",
       "      <td>3.2857</td>\n",
       "      <td>Wing G</td>\n",
       "      <td>7.67089</td>\n",
       "      <td>NaN</td>\n",
       "      <td>NaN</td>\n",
       "      <td>NaN</td>\n",
       "      <td>NaN</td>\n",
       "      <td>NaN</td>\n",
       "    </tr>\n",
       "    <tr>\n",
       "      <th>2</th>\n",
       "      <td>2</td>\n",
       "      <td>Pooh Williams</td>\n",
       "      <td>Utah St.</td>\n",
       "      <td>WAC</td>\n",
       "      <td>34</td>\n",
       "      <td>60.9</td>\n",
       "      <td>108.3</td>\n",
       "      <td>14.9</td>\n",
       "      <td>52.4</td>\n",
       "      <td>54.48</td>\n",
       "      <td>...</td>\n",
       "      <td>0.4118</td>\n",
       "      <td>0.2353</td>\n",
       "      <td>5.9412</td>\n",
       "      <td>NaN</td>\n",
       "      <td>3.94375</td>\n",
       "      <td>NaN</td>\n",
       "      <td>NaN</td>\n",
       "      <td>NaN</td>\n",
       "      <td>NaN</td>\n",
       "      <td>NaN</td>\n",
       "    </tr>\n",
       "    <tr>\n",
       "      <th>3</th>\n",
       "      <td>3</td>\n",
       "      <td>Pooh Williams</td>\n",
       "      <td>Utah St.</td>\n",
       "      <td>WAC</td>\n",
       "      <td>32</td>\n",
       "      <td>64.0</td>\n",
       "      <td>108.3</td>\n",
       "      <td>18.1</td>\n",
       "      <td>53.0</td>\n",
       "      <td>53.33</td>\n",
       "      <td>...</td>\n",
       "      <td>0.5938</td>\n",
       "      <td>0.2188</td>\n",
       "      <td>8.7812</td>\n",
       "      <td>Combo G</td>\n",
       "      <td>7.30085</td>\n",
       "      <td>NaN</td>\n",
       "      <td>NaN</td>\n",
       "      <td>NaN</td>\n",
       "      <td>NaN</td>\n",
       "      <td>NaN</td>\n",
       "    </tr>\n",
       "    <tr>\n",
       "      <th>4</th>\n",
       "      <td>4</td>\n",
       "      <td>Pooh Williams</td>\n",
       "      <td>Utah St.</td>\n",
       "      <td>WAC</td>\n",
       "      <td>33</td>\n",
       "      <td>64.5</td>\n",
       "      <td>105.6</td>\n",
       "      <td>18.7</td>\n",
       "      <td>48.1</td>\n",
       "      <td>52.40</td>\n",
       "      <td>...</td>\n",
       "      <td>0.2121</td>\n",
       "      <td>0.0909</td>\n",
       "      <td>8.6667</td>\n",
       "      <td>Combo G</td>\n",
       "      <td>9.66297</td>\n",
       "      <td>NaN</td>\n",
       "      <td>NaN</td>\n",
       "      <td>NaN</td>\n",
       "      <td>NaN</td>\n",
       "      <td>NaN</td>\n",
       "    </tr>\n",
       "    <tr>\n",
       "      <th>...</th>\n",
       "      <td>...</td>\n",
       "      <td>...</td>\n",
       "      <td>...</td>\n",
       "      <td>...</td>\n",
       "      <td>...</td>\n",
       "      <td>...</td>\n",
       "      <td>...</td>\n",
       "      <td>...</td>\n",
       "      <td>...</td>\n",
       "      <td>...</td>\n",
       "      <td>...</td>\n",
       "      <td>...</td>\n",
       "      <td>...</td>\n",
       "      <td>...</td>\n",
       "      <td>...</td>\n",
       "      <td>...</td>\n",
       "      <td>...</td>\n",
       "      <td>...</td>\n",
       "      <td>...</td>\n",
       "      <td>...</td>\n",
       "      <td>...</td>\n",
       "    </tr>\n",
       "    <tr>\n",
       "      <th>61066</th>\n",
       "      <td>61066</td>\n",
       "      <td>Kamron Battle</td>\n",
       "      <td>Northern Illinois</td>\n",
       "      <td>MAC</td>\n",
       "      <td>2</td>\n",
       "      <td>0.5</td>\n",
       "      <td>0.0</td>\n",
       "      <td>0.0</td>\n",
       "      <td>0.0</td>\n",
       "      <td>0.00</td>\n",
       "      <td>...</td>\n",
       "      <td>0.0000</td>\n",
       "      <td>0.0000</td>\n",
       "      <td>0.0000</td>\n",
       "      <td>PF/C</td>\n",
       "      <td>0.00000</td>\n",
       "      <td>NaN</td>\n",
       "      <td>NaN</td>\n",
       "      <td>NaN</td>\n",
       "      <td>NaN</td>\n",
       "      <td>NaN</td>\n",
       "    </tr>\n",
       "    <tr>\n",
       "      <th>61067</th>\n",
       "      <td>61067</td>\n",
       "      <td>Stavros Polatoglou</td>\n",
       "      <td>Northwestern St.</td>\n",
       "      <td>Slnd</td>\n",
       "      <td>4</td>\n",
       "      <td>1.3</td>\n",
       "      <td>28.3</td>\n",
       "      <td>7.1</td>\n",
       "      <td>0.0</td>\n",
       "      <td>0.00</td>\n",
       "      <td>...</td>\n",
       "      <td>0.0000</td>\n",
       "      <td>0.0000</td>\n",
       "      <td>0.0000</td>\n",
       "      <td>C</td>\n",
       "      <td>0.00000</td>\n",
       "      <td>NaN</td>\n",
       "      <td>NaN</td>\n",
       "      <td>NaN</td>\n",
       "      <td>NaN</td>\n",
       "      <td>NaN</td>\n",
       "    </tr>\n",
       "    <tr>\n",
       "      <th>61068</th>\n",
       "      <td>61068</td>\n",
       "      <td>Sandy Ryan</td>\n",
       "      <td>Tulane</td>\n",
       "      <td>Amer</td>\n",
       "      <td>1</td>\n",
       "      <td>0.1</td>\n",
       "      <td>0.0</td>\n",
       "      <td>0.0</td>\n",
       "      <td>0.0</td>\n",
       "      <td>0.00</td>\n",
       "      <td>...</td>\n",
       "      <td>0.0000</td>\n",
       "      <td>0.0000</td>\n",
       "      <td>0.0000</td>\n",
       "      <td>PF/C</td>\n",
       "      <td>0.00000</td>\n",
       "      <td>NaN</td>\n",
       "      <td>NaN</td>\n",
       "      <td>NaN</td>\n",
       "      <td>NaN</td>\n",
       "      <td>NaN</td>\n",
       "    </tr>\n",
       "    <tr>\n",
       "      <th>61069</th>\n",
       "      <td>61069</td>\n",
       "      <td>Ty Larson</td>\n",
       "      <td>Texas Tech</td>\n",
       "      <td>B12</td>\n",
       "      <td>1</td>\n",
       "      <td>0.1</td>\n",
       "      <td>0.0</td>\n",
       "      <td>0.0</td>\n",
       "      <td>0.0</td>\n",
       "      <td>0.00</td>\n",
       "      <td>...</td>\n",
       "      <td>0.0000</td>\n",
       "      <td>0.0000</td>\n",
       "      <td>0.0000</td>\n",
       "      <td>PF/C</td>\n",
       "      <td>0.00000</td>\n",
       "      <td>NaN</td>\n",
       "      <td>NaN</td>\n",
       "      <td>NaN</td>\n",
       "      <td>NaN</td>\n",
       "      <td>NaN</td>\n",
       "    </tr>\n",
       "    <tr>\n",
       "      <th>61070</th>\n",
       "      <td>61070</td>\n",
       "      <td>Jaden Jones</td>\n",
       "      <td>Rutgers</td>\n",
       "      <td>B10</td>\n",
       "      <td>4</td>\n",
       "      <td>1.0</td>\n",
       "      <td>89.6</td>\n",
       "      <td>28.8</td>\n",
       "      <td>25.0</td>\n",
       "      <td>25.00</td>\n",
       "      <td>...</td>\n",
       "      <td>0.0000</td>\n",
       "      <td>0.0000</td>\n",
       "      <td>0.7500</td>\n",
       "      <td>Pure PG</td>\n",
       "      <td>10.43920</td>\n",
       "      <td>NaN</td>\n",
       "      <td>NaN</td>\n",
       "      <td>NaN</td>\n",
       "      <td>NaN</td>\n",
       "      <td>NaN</td>\n",
       "    </tr>\n",
       "  </tbody>\n",
       "</table>\n",
       "<p>61071 rows × 71 columns</p>\n",
       "</div>"
      ],
      "text/plain": [
       "       Unnamed: 0         player_name             team_x  conf  GP  Min_per  \\\n",
       "0               0       DeAndrae Ross      South Alabama    SB  26     29.5   \n",
       "1               1       DeAndrae Ross               Troy    SB   7     11.5   \n",
       "2               2       Pooh Williams           Utah St.   WAC  34     60.9   \n",
       "3               3       Pooh Williams           Utah St.   WAC  32     64.0   \n",
       "4               4       Pooh Williams           Utah St.   WAC  33     64.5   \n",
       "...           ...                 ...                ...   ...  ..      ...   \n",
       "61066       61066       Kamron Battle  Northern Illinois   MAC   2      0.5   \n",
       "61067       61067  Stavros Polatoglou   Northwestern St.  Slnd   4      1.3   \n",
       "61068       61068          Sandy Ryan             Tulane  Amer   1      0.1   \n",
       "61069       61069           Ty Larson         Texas Tech   B12   1      0.1   \n",
       "61070       61070         Jaden Jones            Rutgers   B10   4      1.0   \n",
       "\n",
       "        Ortg   usg   eFG  TS_per  ...     stl     blk     pts  Unnamed: 64  \\\n",
       "0       97.3  16.6  42.5   44.43  ...  0.3462  0.0385  3.8846          NaN   \n",
       "1       67.1  16.9  34.5   36.11  ...  0.1429  0.0000  3.2857       Wing G   \n",
       "2      108.3  14.9  52.4   54.48  ...  0.4118  0.2353  5.9412          NaN   \n",
       "3      108.3  18.1  53.0   53.33  ...  0.5938  0.2188  8.7812      Combo G   \n",
       "4      105.6  18.7  48.1   52.40  ...  0.2121  0.0909  8.6667      Combo G   \n",
       "...      ...   ...   ...     ...  ...     ...     ...     ...          ...   \n",
       "61066    0.0   0.0   0.0    0.00  ...  0.0000  0.0000  0.0000         PF/C   \n",
       "61067   28.3   7.1   0.0    0.00  ...  0.0000  0.0000  0.0000            C   \n",
       "61068    0.0   0.0   0.0    0.00  ...  0.0000  0.0000  0.0000         PF/C   \n",
       "61069    0.0   0.0   0.0    0.00  ...  0.0000  0.0000  0.0000         PF/C   \n",
       "61070   89.6  28.8  25.0   25.00  ...  0.0000  0.0000  0.7500      Pure PG   \n",
       "\n",
       "       Unnamed: 65  nba team  team_y  year_y  ROUND NUMBER  ROUND PICK  \n",
       "0          6.22026       NaN     NaN     NaN           NaN         NaN  \n",
       "1          7.67089       NaN     NaN     NaN           NaN         NaN  \n",
       "2          3.94375       NaN     NaN     NaN           NaN         NaN  \n",
       "3          7.30085       NaN     NaN     NaN           NaN         NaN  \n",
       "4          9.66297       NaN     NaN     NaN           NaN         NaN  \n",
       "...            ...       ...     ...     ...           ...         ...  \n",
       "61066      0.00000       NaN     NaN     NaN           NaN         NaN  \n",
       "61067      0.00000       NaN     NaN     NaN           NaN         NaN  \n",
       "61068      0.00000       NaN     NaN     NaN           NaN         NaN  \n",
       "61069      0.00000       NaN     NaN     NaN           NaN         NaN  \n",
       "61070     10.43920       NaN     NaN     NaN           NaN         NaN  \n",
       "\n",
       "[61071 rows x 71 columns]"
      ]
     },
     "execution_count": 2,
     "metadata": {},
     "output_type": "execute_result"
    }
   ],
   "source": [
    "df = pd.read_csv(\"Resources/Final_new_draft.csv\")\n",
    "df\n",
    "             "
   ]
  },
  {
   "cell_type": "code",
   "execution_count": 3,
   "id": "bd275301",
   "metadata": {},
   "outputs": [],
   "source": [
    "#draftstatus= df['draft_status']\n",
    "#draftstatus.replace[\"Undrafted\" : 0, inplace=True]\n",
    "#draftstatus.replace[\"Drafted\" : 1, ]"
   ]
  },
  {
   "cell_type": "code",
   "execution_count": 3,
   "id": "7381a806",
   "metadata": {},
   "outputs": [
    {
     "data": {
      "text/plain": [
       "0     0\n",
       "1     0\n",
       "2     0\n",
       "3     0\n",
       "4     0\n",
       "     ..\n",
       "73    1\n",
       "74    1\n",
       "75    1\n",
       "76    0\n",
       "77    0\n",
       "Name: draft_status, Length: 78, dtype: object"
      ]
     },
     "execution_count": 3,
     "metadata": {},
     "output_type": "execute_result"
    }
   ],
   "source": [
    "df.loc[df['draft_status'] == \"Undrafted\", 'draft_status'] = 0\n",
    "df.loc[df['draft_status'] == \"Drafted\", 'draft_status'] = 1\n",
    "df['draft_status'].head(78)"
   ]
  },
  {
   "cell_type": "code",
   "execution_count": 5,
   "id": "283352ed",
   "metadata": {},
   "outputs": [],
   "source": [
    "#newdf = df['draft_status'].astype(int)\n",
    "#newdf.dtypes"
   ]
  },
  {
   "cell_type": "code",
   "execution_count": 4,
   "id": "7e7a8bd1",
   "metadata": {},
   "outputs": [
    {
     "data": {
      "text/html": [
       "<div>\n",
       "<style scoped>\n",
       "    .dataframe tbody tr th:only-of-type {\n",
       "        vertical-align: middle;\n",
       "    }\n",
       "\n",
       "    .dataframe tbody tr th {\n",
       "        vertical-align: top;\n",
       "    }\n",
       "\n",
       "    .dataframe thead th {\n",
       "        text-align: right;\n",
       "    }\n",
       "</style>\n",
       "<table border=\"1\" class=\"dataframe\">\n",
       "  <thead>\n",
       "    <tr style=\"text-align: right;\">\n",
       "      <th></th>\n",
       "      <th>Unnamed: 0</th>\n",
       "      <th>player_name</th>\n",
       "      <th>team_x</th>\n",
       "      <th>conf</th>\n",
       "      <th>GP</th>\n",
       "      <th>Min_per</th>\n",
       "      <th>Ortg</th>\n",
       "      <th>usg</th>\n",
       "      <th>eFG</th>\n",
       "      <th>TS_per</th>\n",
       "      <th>...</th>\n",
       "      <th>stl</th>\n",
       "      <th>blk</th>\n",
       "      <th>pts</th>\n",
       "      <th>Unnamed: 64</th>\n",
       "      <th>Unnamed: 65</th>\n",
       "      <th>nba team</th>\n",
       "      <th>team_y</th>\n",
       "      <th>year_y</th>\n",
       "      <th>ROUND NUMBER</th>\n",
       "      <th>ROUND PICK</th>\n",
       "    </tr>\n",
       "  </thead>\n",
       "  <tbody>\n",
       "    <tr>\n",
       "      <th>0</th>\n",
       "      <td>0</td>\n",
       "      <td>DeAndrae Ross</td>\n",
       "      <td>South Alabama</td>\n",
       "      <td>SB</td>\n",
       "      <td>26</td>\n",
       "      <td>29.5</td>\n",
       "      <td>97.3</td>\n",
       "      <td>16.6</td>\n",
       "      <td>42.5</td>\n",
       "      <td>44.43</td>\n",
       "      <td>...</td>\n",
       "      <td>0.3462</td>\n",
       "      <td>0.0385</td>\n",
       "      <td>3.8846</td>\n",
       "      <td>NaN</td>\n",
       "      <td>6.22026</td>\n",
       "      <td>NaN</td>\n",
       "      <td>NaN</td>\n",
       "      <td>NaN</td>\n",
       "      <td>NaN</td>\n",
       "      <td>NaN</td>\n",
       "    </tr>\n",
       "    <tr>\n",
       "      <th>1</th>\n",
       "      <td>1</td>\n",
       "      <td>DeAndrae Ross</td>\n",
       "      <td>Troy</td>\n",
       "      <td>SB</td>\n",
       "      <td>7</td>\n",
       "      <td>11.5</td>\n",
       "      <td>67.1</td>\n",
       "      <td>16.9</td>\n",
       "      <td>34.5</td>\n",
       "      <td>36.11</td>\n",
       "      <td>...</td>\n",
       "      <td>0.1429</td>\n",
       "      <td>0.0000</td>\n",
       "      <td>3.2857</td>\n",
       "      <td>Wing G</td>\n",
       "      <td>7.67089</td>\n",
       "      <td>NaN</td>\n",
       "      <td>NaN</td>\n",
       "      <td>NaN</td>\n",
       "      <td>NaN</td>\n",
       "      <td>NaN</td>\n",
       "    </tr>\n",
       "    <tr>\n",
       "      <th>2</th>\n",
       "      <td>2</td>\n",
       "      <td>Pooh Williams</td>\n",
       "      <td>Utah St.</td>\n",
       "      <td>WAC</td>\n",
       "      <td>34</td>\n",
       "      <td>60.9</td>\n",
       "      <td>108.3</td>\n",
       "      <td>14.9</td>\n",
       "      <td>52.4</td>\n",
       "      <td>54.48</td>\n",
       "      <td>...</td>\n",
       "      <td>0.4118</td>\n",
       "      <td>0.2353</td>\n",
       "      <td>5.9412</td>\n",
       "      <td>NaN</td>\n",
       "      <td>3.94375</td>\n",
       "      <td>NaN</td>\n",
       "      <td>NaN</td>\n",
       "      <td>NaN</td>\n",
       "      <td>NaN</td>\n",
       "      <td>NaN</td>\n",
       "    </tr>\n",
       "    <tr>\n",
       "      <th>3</th>\n",
       "      <td>3</td>\n",
       "      <td>Pooh Williams</td>\n",
       "      <td>Utah St.</td>\n",
       "      <td>WAC</td>\n",
       "      <td>32</td>\n",
       "      <td>64.0</td>\n",
       "      <td>108.3</td>\n",
       "      <td>18.1</td>\n",
       "      <td>53.0</td>\n",
       "      <td>53.33</td>\n",
       "      <td>...</td>\n",
       "      <td>0.5938</td>\n",
       "      <td>0.2188</td>\n",
       "      <td>8.7812</td>\n",
       "      <td>Combo G</td>\n",
       "      <td>7.30085</td>\n",
       "      <td>NaN</td>\n",
       "      <td>NaN</td>\n",
       "      <td>NaN</td>\n",
       "      <td>NaN</td>\n",
       "      <td>NaN</td>\n",
       "    </tr>\n",
       "    <tr>\n",
       "      <th>4</th>\n",
       "      <td>4</td>\n",
       "      <td>Pooh Williams</td>\n",
       "      <td>Utah St.</td>\n",
       "      <td>WAC</td>\n",
       "      <td>33</td>\n",
       "      <td>64.5</td>\n",
       "      <td>105.6</td>\n",
       "      <td>18.7</td>\n",
       "      <td>48.1</td>\n",
       "      <td>52.40</td>\n",
       "      <td>...</td>\n",
       "      <td>0.2121</td>\n",
       "      <td>0.0909</td>\n",
       "      <td>8.6667</td>\n",
       "      <td>Combo G</td>\n",
       "      <td>9.66297</td>\n",
       "      <td>NaN</td>\n",
       "      <td>NaN</td>\n",
       "      <td>NaN</td>\n",
       "      <td>NaN</td>\n",
       "      <td>NaN</td>\n",
       "    </tr>\n",
       "    <tr>\n",
       "      <th>...</th>\n",
       "      <td>...</td>\n",
       "      <td>...</td>\n",
       "      <td>...</td>\n",
       "      <td>...</td>\n",
       "      <td>...</td>\n",
       "      <td>...</td>\n",
       "      <td>...</td>\n",
       "      <td>...</td>\n",
       "      <td>...</td>\n",
       "      <td>...</td>\n",
       "      <td>...</td>\n",
       "      <td>...</td>\n",
       "      <td>...</td>\n",
       "      <td>...</td>\n",
       "      <td>...</td>\n",
       "      <td>...</td>\n",
       "      <td>...</td>\n",
       "      <td>...</td>\n",
       "      <td>...</td>\n",
       "      <td>...</td>\n",
       "      <td>...</td>\n",
       "    </tr>\n",
       "    <tr>\n",
       "      <th>61058</th>\n",
       "      <td>61058</td>\n",
       "      <td>Jordan Nesbitt</td>\n",
       "      <td>Memphis</td>\n",
       "      <td>Amer</td>\n",
       "      <td>3</td>\n",
       "      <td>1.0</td>\n",
       "      <td>50.3</td>\n",
       "      <td>30.1</td>\n",
       "      <td>37.5</td>\n",
       "      <td>37.50</td>\n",
       "      <td>...</td>\n",
       "      <td>0.0000</td>\n",
       "      <td>0.0000</td>\n",
       "      <td>1.0000</td>\n",
       "      <td>Stretch 4</td>\n",
       "      <td>15.41270</td>\n",
       "      <td>NaN</td>\n",
       "      <td>NaN</td>\n",
       "      <td>NaN</td>\n",
       "      <td>NaN</td>\n",
       "      <td>NaN</td>\n",
       "    </tr>\n",
       "    <tr>\n",
       "      <th>61059</th>\n",
       "      <td>61059</td>\n",
       "      <td>Quinn Pemberton</td>\n",
       "      <td>Boston College</td>\n",
       "      <td>ACC</td>\n",
       "      <td>2</td>\n",
       "      <td>0.9</td>\n",
       "      <td>0.0</td>\n",
       "      <td>13.8</td>\n",
       "      <td>0.0</td>\n",
       "      <td>0.00</td>\n",
       "      <td>...</td>\n",
       "      <td>0.0000</td>\n",
       "      <td>0.0000</td>\n",
       "      <td>0.0000</td>\n",
       "      <td>Combo G</td>\n",
       "      <td>7.69879</td>\n",
       "      <td>NaN</td>\n",
       "      <td>NaN</td>\n",
       "      <td>NaN</td>\n",
       "      <td>NaN</td>\n",
       "      <td>NaN</td>\n",
       "    </tr>\n",
       "    <tr>\n",
       "      <th>61060</th>\n",
       "      <td>61060</td>\n",
       "      <td>Mac Etienne</td>\n",
       "      <td>UCLA</td>\n",
       "      <td>P12</td>\n",
       "      <td>13</td>\n",
       "      <td>11.0</td>\n",
       "      <td>99.1</td>\n",
       "      <td>15.1</td>\n",
       "      <td>60.0</td>\n",
       "      <td>55.37</td>\n",
       "      <td>...</td>\n",
       "      <td>0.1538</td>\n",
       "      <td>0.1538</td>\n",
       "      <td>2.6154</td>\n",
       "      <td>C</td>\n",
       "      <td>0.00000</td>\n",
       "      <td>NaN</td>\n",
       "      <td>NaN</td>\n",
       "      <td>NaN</td>\n",
       "      <td>NaN</td>\n",
       "      <td>NaN</td>\n",
       "    </tr>\n",
       "    <tr>\n",
       "      <th>61062</th>\n",
       "      <td>61062</td>\n",
       "      <td>Lysander Rehnstrom</td>\n",
       "      <td>George Mason</td>\n",
       "      <td>A10</td>\n",
       "      <td>2</td>\n",
       "      <td>0.3</td>\n",
       "      <td>0.0</td>\n",
       "      <td>32.2</td>\n",
       "      <td>0.0</td>\n",
       "      <td>0.00</td>\n",
       "      <td>...</td>\n",
       "      <td>0.0000</td>\n",
       "      <td>0.0000</td>\n",
       "      <td>0.0000</td>\n",
       "      <td>PF/C</td>\n",
       "      <td>22.22830</td>\n",
       "      <td>NaN</td>\n",
       "      <td>NaN</td>\n",
       "      <td>NaN</td>\n",
       "      <td>NaN</td>\n",
       "      <td>NaN</td>\n",
       "    </tr>\n",
       "    <tr>\n",
       "      <th>61067</th>\n",
       "      <td>61067</td>\n",
       "      <td>Stavros Polatoglou</td>\n",
       "      <td>Northwestern St.</td>\n",
       "      <td>Slnd</td>\n",
       "      <td>4</td>\n",
       "      <td>1.3</td>\n",
       "      <td>28.3</td>\n",
       "      <td>7.1</td>\n",
       "      <td>0.0</td>\n",
       "      <td>0.00</td>\n",
       "      <td>...</td>\n",
       "      <td>0.0000</td>\n",
       "      <td>0.0000</td>\n",
       "      <td>0.0000</td>\n",
       "      <td>C</td>\n",
       "      <td>0.00000</td>\n",
       "      <td>NaN</td>\n",
       "      <td>NaN</td>\n",
       "      <td>NaN</td>\n",
       "      <td>NaN</td>\n",
       "      <td>NaN</td>\n",
       "    </tr>\n",
       "  </tbody>\n",
       "</table>\n",
       "<p>56344 rows × 71 columns</p>\n",
       "</div>"
      ],
      "text/plain": [
       "       Unnamed: 0         player_name            team_x  conf  GP  Min_per  \\\n",
       "0               0       DeAndrae Ross     South Alabama    SB  26     29.5   \n",
       "1               1       DeAndrae Ross              Troy    SB   7     11.5   \n",
       "2               2       Pooh Williams          Utah St.   WAC  34     60.9   \n",
       "3               3       Pooh Williams          Utah St.   WAC  32     64.0   \n",
       "4               4       Pooh Williams          Utah St.   WAC  33     64.5   \n",
       "...           ...                 ...               ...   ...  ..      ...   \n",
       "61058       61058      Jordan Nesbitt           Memphis  Amer   3      1.0   \n",
       "61059       61059     Quinn Pemberton    Boston College   ACC   2      0.9   \n",
       "61060       61060         Mac Etienne              UCLA   P12  13     11.0   \n",
       "61062       61062  Lysander Rehnstrom      George Mason   A10   2      0.3   \n",
       "61067       61067  Stavros Polatoglou  Northwestern St.  Slnd   4      1.3   \n",
       "\n",
       "        Ortg   usg   eFG  TS_per  ...     stl     blk     pts  Unnamed: 64  \\\n",
       "0       97.3  16.6  42.5   44.43  ...  0.3462  0.0385  3.8846          NaN   \n",
       "1       67.1  16.9  34.5   36.11  ...  0.1429  0.0000  3.2857       Wing G   \n",
       "2      108.3  14.9  52.4   54.48  ...  0.4118  0.2353  5.9412          NaN   \n",
       "3      108.3  18.1  53.0   53.33  ...  0.5938  0.2188  8.7812      Combo G   \n",
       "4      105.6  18.7  48.1   52.40  ...  0.2121  0.0909  8.6667      Combo G   \n",
       "...      ...   ...   ...     ...  ...     ...     ...     ...          ...   \n",
       "61058   50.3  30.1  37.5   37.50  ...  0.0000  0.0000  1.0000    Stretch 4   \n",
       "61059    0.0  13.8   0.0    0.00  ...  0.0000  0.0000  0.0000      Combo G   \n",
       "61060   99.1  15.1  60.0   55.37  ...  0.1538  0.1538  2.6154            C   \n",
       "61062    0.0  32.2   0.0    0.00  ...  0.0000  0.0000  0.0000         PF/C   \n",
       "61067   28.3   7.1   0.0    0.00  ...  0.0000  0.0000  0.0000            C   \n",
       "\n",
       "       Unnamed: 65  nba team  team_y  year_y  ROUND NUMBER  ROUND PICK  \n",
       "0          6.22026       NaN     NaN     NaN           NaN         NaN  \n",
       "1          7.67089       NaN     NaN     NaN           NaN         NaN  \n",
       "2          3.94375       NaN     NaN     NaN           NaN         NaN  \n",
       "3          7.30085       NaN     NaN     NaN           NaN         NaN  \n",
       "4          9.66297       NaN     NaN     NaN           NaN         NaN  \n",
       "...            ...       ...     ...     ...           ...         ...  \n",
       "61058     15.41270       NaN     NaN     NaN           NaN         NaN  \n",
       "61059      7.69879       NaN     NaN     NaN           NaN         NaN  \n",
       "61060      0.00000       NaN     NaN     NaN           NaN         NaN  \n",
       "61062     22.22830       NaN     NaN     NaN           NaN         NaN  \n",
       "61067      0.00000       NaN     NaN     NaN           NaN         NaN  \n",
       "\n",
       "[56344 rows x 71 columns]"
      ]
     },
     "execution_count": 4,
     "metadata": {},
     "output_type": "execute_result"
    }
   ],
   "source": [
    "droppedstats =df.dropna(axis=0, subset=[\"pts\", \"treb\", \"ast\", \"stl\", \"blk\",\"ast/tov\", \"mp\", \"FT_per\", \"eFG\"])\n",
    "droppedstats"
   ]
  },
  {
   "cell_type": "code",
   "execution_count": 5,
   "id": "a9d40cda",
   "metadata": {},
   "outputs": [
    {
     "data": {
      "text/plain": [
       "0    54900\n",
       "1     1444\n",
       "Name: draft_status, dtype: int64"
      ]
     },
     "execution_count": 5,
     "metadata": {},
     "output_type": "execute_result"
    }
   ],
   "source": [
    "droppedstats[\"draft_status\"].value_counts()\n"
   ]
  },
  {
   "cell_type": "code",
   "execution_count": 6,
   "id": "2cab400e",
   "metadata": {},
   "outputs": [],
   "source": [
    "newdf = droppedstats['draft_status'].astype(int)\n",
    "#newdf"
   ]
  },
  {
   "cell_type": "code",
   "execution_count": 7,
   "id": "406ed708",
   "metadata": {},
   "outputs": [],
   "source": [
    "stats = [\"pts\", \"treb\", \"ast\", \"stl\", \"blk\",\"ast/tov\", \"mp\", \"FT_per\", \"eFG\"]\n",
    "X = droppedstats[stats]\n",
    "y= newdf"
   ]
  },
  {
   "cell_type": "code",
   "execution_count": 8,
   "id": "271fa466",
   "metadata": {},
   "outputs": [],
   "source": [
    "X_train, X_test, y_train, y_test = train_test_split(X, y, random_state=1)\n",
    "scaler = StandardScaler().fit(X_train)\n",
    "X_train_scaled = scaler.transform(X_train)\n",
    "X_test_scaled = scaler.transform(X_test)"
   ]
  },
  {
   "cell_type": "code",
   "execution_count": 9,
   "id": "858f4667",
   "metadata": {},
   "outputs": [
    {
     "data": {
      "text/plain": [
       "LogisticRegression()"
      ]
     },
     "execution_count": 9,
     "metadata": {},
     "output_type": "execute_result"
    }
   ],
   "source": [
    "# create a logistic regression model\n",
    "from sklearn.linear_model import LogisticRegression\n",
    "classifier = LogisticRegression()\n",
    "classifier"
   ]
  },
  {
   "cell_type": "code",
   "execution_count": 15,
   "id": "7aa5f508",
   "metadata": {},
   "outputs": [
    {
     "data": {
      "text/plain": [
       "LogisticRegression()"
      ]
     },
     "execution_count": 15,
     "metadata": {},
     "output_type": "execute_result"
    }
   ],
   "source": [
    "# fit the model to the data\n",
    "classifier.fit(X_train_scaled, y_train)"
   ]
  },
  {
   "cell_type": "code",
   "execution_count": 16,
   "id": "45e86eb2",
   "metadata": {},
   "outputs": [
    {
     "name": "stdout",
     "output_type": "stream",
     "text": [
      "Training Data Score: 0.9743243882815088\n",
      "Testing Data Score: 0.9733778219508732\n"
     ]
    }
   ],
   "source": [
    "# print the accuracy score for the test data\n",
    "print(f\"Training Data Score: {classifier.score(X_train_scaled, y_train)}\")\n",
    "print(f\"Testing Data Score: {classifier.score(X_test_scaled, y_test)}\")"
   ]
  },
  {
   "cell_type": "code",
   "execution_count": 18,
   "id": "b6a0a427",
   "metadata": {},
   "outputs": [
    {
     "name": "stdout",
     "output_type": "stream",
     "text": [
      "First 25 Predictions: [0, 0, 0, 0, 0, 0, 0, 0, 0, 0, 0, 0, 0, 0, 0, 0, 0, 0, 0, 0, 0, 0, 0, 0, 0]\n",
      "First 25 Actual Labels: [0, 0, 0, 0, 0, 0, 0, 0, 0, 0, 0, 0, 0, 0, 0, 0, 0, 0, 0, 0, 0, 0, 0, 0, 0]\n"
     ]
    }
   ],
   "source": [
    "# make predictions by using X_test and y_test data\n",
    "predictions = classifier.predict(X_test_scaled)\n",
    "print(f\"First 25 Predictions: {predictions[:25].tolist()}\")\n",
    "print(f\"First 25 Actual Labels: {y_test[:25].tolist()}\")"
   ]
  },
  {
   "cell_type": "code",
   "execution_count": 19,
   "id": "27585b49",
   "metadata": {},
   "outputs": [
    {
     "data": {
      "text/plain": [
       "array([[13696,    15],\n",
       "       [  360,    15]], dtype=int64)"
      ]
     },
     "execution_count": 19,
     "metadata": {},
     "output_type": "execute_result"
    }
   ],
   "source": [
    "from sklearn.metrics import confusion_matrix\n",
    "confusion_matrix(y_test, predictions)"
   ]
  },
  {
   "cell_type": "code",
   "execution_count": 20,
   "id": "6016f4ad",
   "metadata": {},
   "outputs": [
    {
     "name": "stdout",
     "output_type": "stream",
     "text": [
      "Accuracy: 0.9733778219508732\n"
     ]
    }
   ],
   "source": [
    "tn, fp, fn, tp = confusion_matrix(y_test, predictions).ravel()\n",
    "accuracy = (tp+tn) / (tp+fp+tn+fn)\n",
    "print(f\"Accuracy: {accuracy}\")"
   ]
  },
  {
   "cell_type": "code",
   "execution_count": 21,
   "id": "328577b6",
   "metadata": {},
   "outputs": [
    {
     "name": "stdout",
     "output_type": "stream",
     "text": [
      "Sensitivity: 0.04\n"
     ]
    }
   ],
   "source": [
    "# find sensitivity of model\n",
    "sensitivity = tp / (tp+fn)\n",
    "print(f\"Sensitivity: {sensitivity}\")"
   ]
  },
  {
   "cell_type": "code",
   "execution_count": 22,
   "id": "34ac0387",
   "metadata": {},
   "outputs": [
    {
     "name": "stdout",
     "output_type": "stream",
     "text": [
      "Precision: 0.5\n"
     ]
    }
   ],
   "source": [
    "# find precision of model\n",
    "precision = tp / (tp+fp)\n",
    "print(f\"Precision: {precision}\")"
   ]
  },
  {
   "cell_type": "code",
   "execution_count": 23,
   "id": "566dd82f",
   "metadata": {},
   "outputs": [
    {
     "name": "stdout",
     "output_type": "stream",
     "text": [
      "              precision    recall  f1-score   support\n",
      "\n",
      "           0       0.97      1.00      0.99     13711\n",
      "           1       0.50      0.04      0.07       375\n",
      "\n",
      "    accuracy                           0.97     14086\n",
      "   macro avg       0.74      0.52      0.53     14086\n",
      "weighted avg       0.96      0.97      0.96     14086\n",
      "\n"
     ]
    }
   ],
   "source": [
    "# classification report\n",
    "from sklearn.metrics import classification_report\n",
    "print(classification_report(y_test, predictions))"
   ]
  },
  {
   "cell_type": "code",
   "execution_count": 25,
   "id": "69aba185",
   "metadata": {},
   "outputs": [
    {
     "name": "stdout",
     "output_type": "stream",
     "text": [
      "1.0\n"
     ]
    }
   ],
   "source": [
    "rcf = RandomForestClassifier(random_state=1, n_estimators=500).fit(X_train_scaled, y_train)\n",
    "score1= rcf.score(X_train_scaled, y_train)\n",
    "score2 =rcf.score(X_test_scaled, y_test)\n",
    "print(score1)\n"
   ]
  },
  {
   "cell_type": "code",
   "execution_count": 26,
   "id": "2739cc48",
   "metadata": {},
   "outputs": [
    {
     "name": "stdout",
     "output_type": "stream",
     "text": [
      "0.9734488144256709\n"
     ]
    }
   ],
   "source": [
    "print(score2)"
   ]
  },
  {
   "cell_type": "code",
   "execution_count": 27,
   "id": "8d2afcce",
   "metadata": {},
   "outputs": [
    {
     "name": "stdout",
     "output_type": "stream",
     "text": [
      "First 25 Predictions: [0, 0, 0, 0, 0, 0, 0, 0, 0, 0, 0, 0, 0, 0, 0, 0, 0, 0, 0, 0, 0, 0, 0, 0, 0]\n",
      "First 25 Actual Labels: [0, 0, 0, 0, 0, 0, 0, 0, 0, 0, 0, 0, 0, 0, 0, 0, 0, 0, 0, 0, 0, 0, 0, 0, 0]\n"
     ]
    }
   ],
   "source": [
    "# make predictions\n",
    "pred_rcf = rcf.predict(X_test_scaled)\n",
    "print(f\"First 25 Predictions: {pred_rcf[:25].tolist()}\")\n",
    "print(f\"First 25 Actual Labels: {y_test[:25].tolist()}\")"
   ]
  },
  {
   "cell_type": "code",
   "execution_count": 28,
   "id": "a36e86df",
   "metadata": {
    "scrolled": true
   },
   "outputs": [
    {
     "data": {
      "text/plain": [
       "array([[13700,    11],\n",
       "       [  363,    12]], dtype=int64)"
      ]
     },
     "execution_count": 28,
     "metadata": {},
     "output_type": "execute_result"
    }
   ],
   "source": [
    "# confusion matrix\n",
    "confusion_matrix(y_test, pred_rcf)"
   ]
  },
  {
   "cell_type": "code",
   "execution_count": 29,
   "id": "29e6dc62",
   "metadata": {},
   "outputs": [
    {
     "name": "stdout",
     "output_type": "stream",
     "text": [
      "              precision    recall  f1-score   support\n",
      "\n",
      "           0       0.97      1.00      0.99     13711\n",
      "           1       0.52      0.03      0.06       375\n",
      "\n",
      "    accuracy                           0.97     14086\n",
      "   macro avg       0.75      0.52      0.52     14086\n",
      "weighted avg       0.96      0.97      0.96     14086\n",
      "\n"
     ]
    }
   ],
   "source": [
    "# classification report\n",
    "print(classification_report(y_test, pred_rcf))"
   ]
  },
  {
   "cell_type": "code",
   "execution_count": 30,
   "id": "346119e1",
   "metadata": {},
   "outputs": [],
   "source": [
    "# trying new stats to get better predictions\n",
    "stats2 = [\"pts\", \"blk\"]\n",
    "X2 = droppedstats[stats2]\n",
    "y2 = newdf"
   ]
  },
  {
   "cell_type": "code",
   "execution_count": 31,
   "id": "b3667a5e",
   "metadata": {},
   "outputs": [],
   "source": [
    "# train test split\n",
    "X2_train, X2_test, y2_train, y2_test = train_test_split(X2, y2, random_state=1)\n",
    "scaler2 = StandardScaler().fit(X2_train)\n",
    "X2_train_scaled = scaler2.transform(X2_train)\n",
    "X2_test_scaled = scaler2.transform(X2_test)"
   ]
  },
  {
   "cell_type": "code",
   "execution_count": 32,
   "id": "06e5e12a",
   "metadata": {},
   "outputs": [
    {
     "data": {
      "text/plain": [
       "LogisticRegression()"
      ]
     },
     "execution_count": 32,
     "metadata": {},
     "output_type": "execute_result"
    }
   ],
   "source": [
    "# create a logistic regression model\n",
    "classifier2 = LogisticRegression()\n",
    "classifier2"
   ]
  },
  {
   "cell_type": "code",
   "execution_count": 38,
   "id": "c82770da",
   "metadata": {
    "scrolled": false
   },
   "outputs": [
    {
     "name": "stderr",
     "output_type": "stream",
     "text": [
      "C:\\Users\\jlsin\\anaconda3\\lib\\site-packages\\sklearn\\linear_model\\_logistic.py:763: ConvergenceWarning: lbfgs failed to converge (status=1):\n",
      "STOP: TOTAL NO. of ITERATIONS REACHED LIMIT.\n",
      "\n",
      "Increase the number of iterations (max_iter) or scale the data as shown in:\n",
      "    https://scikit-learn.org/stable/modules/preprocessing.html\n",
      "Please also refer to the documentation for alternative solver options:\n",
      "    https://scikit-learn.org/stable/modules/linear_model.html#logistic-regression\n",
      "  n_iter_i = _check_optimize_result(\n"
     ]
    },
    {
     "data": {
      "text/plain": [
       "LogisticRegression()"
      ]
     },
     "execution_count": 38,
     "metadata": {},
     "output_type": "execute_result"
    }
   ],
   "source": [
    "# fit the model to the data\n",
    "classifier2.fit(X_train, y_train)"
   ]
  },
  {
   "cell_type": "code",
   "execution_count": 39,
   "id": "2382828f",
   "metadata": {},
   "outputs": [
    {
     "data": {
      "text/plain": [
       "array([[13696,    15],\n",
       "       [  359,    16]], dtype=int64)"
      ]
     },
     "execution_count": 39,
     "metadata": {},
     "output_type": "execute_result"
    }
   ],
   "source": [
    "# confusion matrix for logistic regression new stats\n",
    "predictions2 = classifier2.predict(X_test)\n",
    "confusion_matrix(y_test, predictions2)"
   ]
  },
  {
   "cell_type": "code",
   "execution_count": 40,
   "id": "88924703",
   "metadata": {
    "scrolled": false
   },
   "outputs": [
    {
     "name": "stdout",
     "output_type": "stream",
     "text": [
      "              precision    recall  f1-score   support\n",
      "\n",
      "           0       0.97      1.00      0.99     13711\n",
      "           1       0.52      0.04      0.08       375\n",
      "\n",
      "    accuracy                           0.97     14086\n",
      "   macro avg       0.75      0.52      0.53     14086\n",
      "weighted avg       0.96      0.97      0.96     14086\n",
      "\n"
     ]
    }
   ],
   "source": [
    "# classification report for logistic regression with new stats\n",
    "print(classification_report(y_test, predictions2))"
   ]
  },
  {
   "cell_type": "markdown",
   "id": "f274a1bb",
   "metadata": {},
   "source": [
    "New set of stats:"
   ]
  },
  {
   "cell_type": "code",
   "execution_count": 64,
   "id": "eeb2425d",
   "metadata": {},
   "outputs": [
    {
     "data": {
      "text/html": [
       "<div>\n",
       "<style scoped>\n",
       "    .dataframe tbody tr th:only-of-type {\n",
       "        vertical-align: middle;\n",
       "    }\n",
       "\n",
       "    .dataframe tbody tr th {\n",
       "        vertical-align: top;\n",
       "    }\n",
       "\n",
       "    .dataframe thead th {\n",
       "        text-align: right;\n",
       "    }\n",
       "</style>\n",
       "<table border=\"1\" class=\"dataframe\">\n",
       "  <thead>\n",
       "    <tr style=\"text-align: right;\">\n",
       "      <th></th>\n",
       "      <th>Unnamed: 0</th>\n",
       "      <th>player_name</th>\n",
       "      <th>team_x</th>\n",
       "      <th>conf</th>\n",
       "      <th>GP</th>\n",
       "      <th>Min_per</th>\n",
       "      <th>Ortg</th>\n",
       "      <th>usg</th>\n",
       "      <th>eFG</th>\n",
       "      <th>TS_per</th>\n",
       "      <th>...</th>\n",
       "      <th>stl</th>\n",
       "      <th>blk</th>\n",
       "      <th>pts</th>\n",
       "      <th>Unnamed: 64</th>\n",
       "      <th>Unnamed: 65</th>\n",
       "      <th>nba team</th>\n",
       "      <th>team_y</th>\n",
       "      <th>year_y</th>\n",
       "      <th>ROUND NUMBER</th>\n",
       "      <th>ROUND PICK</th>\n",
       "    </tr>\n",
       "  </thead>\n",
       "  <tbody>\n",
       "    <tr>\n",
       "      <th>0</th>\n",
       "      <td>0</td>\n",
       "      <td>DeAndrae Ross</td>\n",
       "      <td>South Alabama</td>\n",
       "      <td>SB</td>\n",
       "      <td>26</td>\n",
       "      <td>29.5</td>\n",
       "      <td>97.3</td>\n",
       "      <td>16.6</td>\n",
       "      <td>42.5</td>\n",
       "      <td>44.43</td>\n",
       "      <td>...</td>\n",
       "      <td>0.3462</td>\n",
       "      <td>0.0385</td>\n",
       "      <td>3.8846</td>\n",
       "      <td>NaN</td>\n",
       "      <td>6.22026</td>\n",
       "      <td>NaN</td>\n",
       "      <td>NaN</td>\n",
       "      <td>NaN</td>\n",
       "      <td>NaN</td>\n",
       "      <td>NaN</td>\n",
       "    </tr>\n",
       "    <tr>\n",
       "      <th>1</th>\n",
       "      <td>1</td>\n",
       "      <td>DeAndrae Ross</td>\n",
       "      <td>Troy</td>\n",
       "      <td>SB</td>\n",
       "      <td>7</td>\n",
       "      <td>11.5</td>\n",
       "      <td>67.1</td>\n",
       "      <td>16.9</td>\n",
       "      <td>34.5</td>\n",
       "      <td>36.11</td>\n",
       "      <td>...</td>\n",
       "      <td>0.1429</td>\n",
       "      <td>0.0000</td>\n",
       "      <td>3.2857</td>\n",
       "      <td>Wing G</td>\n",
       "      <td>7.67089</td>\n",
       "      <td>NaN</td>\n",
       "      <td>NaN</td>\n",
       "      <td>NaN</td>\n",
       "      <td>NaN</td>\n",
       "      <td>NaN</td>\n",
       "    </tr>\n",
       "    <tr>\n",
       "      <th>2</th>\n",
       "      <td>2</td>\n",
       "      <td>Pooh Williams</td>\n",
       "      <td>Utah St.</td>\n",
       "      <td>WAC</td>\n",
       "      <td>34</td>\n",
       "      <td>60.9</td>\n",
       "      <td>108.3</td>\n",
       "      <td>14.9</td>\n",
       "      <td>52.4</td>\n",
       "      <td>54.48</td>\n",
       "      <td>...</td>\n",
       "      <td>0.4118</td>\n",
       "      <td>0.2353</td>\n",
       "      <td>5.9412</td>\n",
       "      <td>NaN</td>\n",
       "      <td>3.94375</td>\n",
       "      <td>NaN</td>\n",
       "      <td>NaN</td>\n",
       "      <td>NaN</td>\n",
       "      <td>NaN</td>\n",
       "      <td>NaN</td>\n",
       "    </tr>\n",
       "    <tr>\n",
       "      <th>3</th>\n",
       "      <td>3</td>\n",
       "      <td>Pooh Williams</td>\n",
       "      <td>Utah St.</td>\n",
       "      <td>WAC</td>\n",
       "      <td>32</td>\n",
       "      <td>64.0</td>\n",
       "      <td>108.3</td>\n",
       "      <td>18.1</td>\n",
       "      <td>53.0</td>\n",
       "      <td>53.33</td>\n",
       "      <td>...</td>\n",
       "      <td>0.5938</td>\n",
       "      <td>0.2188</td>\n",
       "      <td>8.7812</td>\n",
       "      <td>Combo G</td>\n",
       "      <td>7.30085</td>\n",
       "      <td>NaN</td>\n",
       "      <td>NaN</td>\n",
       "      <td>NaN</td>\n",
       "      <td>NaN</td>\n",
       "      <td>NaN</td>\n",
       "    </tr>\n",
       "    <tr>\n",
       "      <th>4</th>\n",
       "      <td>4</td>\n",
       "      <td>Pooh Williams</td>\n",
       "      <td>Utah St.</td>\n",
       "      <td>WAC</td>\n",
       "      <td>33</td>\n",
       "      <td>64.5</td>\n",
       "      <td>105.6</td>\n",
       "      <td>18.7</td>\n",
       "      <td>48.1</td>\n",
       "      <td>52.40</td>\n",
       "      <td>...</td>\n",
       "      <td>0.2121</td>\n",
       "      <td>0.0909</td>\n",
       "      <td>8.6667</td>\n",
       "      <td>Combo G</td>\n",
       "      <td>9.66297</td>\n",
       "      <td>NaN</td>\n",
       "      <td>NaN</td>\n",
       "      <td>NaN</td>\n",
       "      <td>NaN</td>\n",
       "      <td>NaN</td>\n",
       "    </tr>\n",
       "    <tr>\n",
       "      <th>...</th>\n",
       "      <td>...</td>\n",
       "      <td>...</td>\n",
       "      <td>...</td>\n",
       "      <td>...</td>\n",
       "      <td>...</td>\n",
       "      <td>...</td>\n",
       "      <td>...</td>\n",
       "      <td>...</td>\n",
       "      <td>...</td>\n",
       "      <td>...</td>\n",
       "      <td>...</td>\n",
       "      <td>...</td>\n",
       "      <td>...</td>\n",
       "      <td>...</td>\n",
       "      <td>...</td>\n",
       "      <td>...</td>\n",
       "      <td>...</td>\n",
       "      <td>...</td>\n",
       "      <td>...</td>\n",
       "      <td>...</td>\n",
       "      <td>...</td>\n",
       "    </tr>\n",
       "    <tr>\n",
       "      <th>61066</th>\n",
       "      <td>61066</td>\n",
       "      <td>Kamron Battle</td>\n",
       "      <td>Northern Illinois</td>\n",
       "      <td>MAC</td>\n",
       "      <td>2</td>\n",
       "      <td>0.5</td>\n",
       "      <td>0.0</td>\n",
       "      <td>0.0</td>\n",
       "      <td>0.0</td>\n",
       "      <td>0.00</td>\n",
       "      <td>...</td>\n",
       "      <td>0.0000</td>\n",
       "      <td>0.0000</td>\n",
       "      <td>0.0000</td>\n",
       "      <td>PF/C</td>\n",
       "      <td>0.00000</td>\n",
       "      <td>NaN</td>\n",
       "      <td>NaN</td>\n",
       "      <td>NaN</td>\n",
       "      <td>NaN</td>\n",
       "      <td>NaN</td>\n",
       "    </tr>\n",
       "    <tr>\n",
       "      <th>61067</th>\n",
       "      <td>61067</td>\n",
       "      <td>Stavros Polatoglou</td>\n",
       "      <td>Northwestern St.</td>\n",
       "      <td>Slnd</td>\n",
       "      <td>4</td>\n",
       "      <td>1.3</td>\n",
       "      <td>28.3</td>\n",
       "      <td>7.1</td>\n",
       "      <td>0.0</td>\n",
       "      <td>0.00</td>\n",
       "      <td>...</td>\n",
       "      <td>0.0000</td>\n",
       "      <td>0.0000</td>\n",
       "      <td>0.0000</td>\n",
       "      <td>C</td>\n",
       "      <td>0.00000</td>\n",
       "      <td>NaN</td>\n",
       "      <td>NaN</td>\n",
       "      <td>NaN</td>\n",
       "      <td>NaN</td>\n",
       "      <td>NaN</td>\n",
       "    </tr>\n",
       "    <tr>\n",
       "      <th>61068</th>\n",
       "      <td>61068</td>\n",
       "      <td>Sandy Ryan</td>\n",
       "      <td>Tulane</td>\n",
       "      <td>Amer</td>\n",
       "      <td>1</td>\n",
       "      <td>0.1</td>\n",
       "      <td>0.0</td>\n",
       "      <td>0.0</td>\n",
       "      <td>0.0</td>\n",
       "      <td>0.00</td>\n",
       "      <td>...</td>\n",
       "      <td>0.0000</td>\n",
       "      <td>0.0000</td>\n",
       "      <td>0.0000</td>\n",
       "      <td>PF/C</td>\n",
       "      <td>0.00000</td>\n",
       "      <td>NaN</td>\n",
       "      <td>NaN</td>\n",
       "      <td>NaN</td>\n",
       "      <td>NaN</td>\n",
       "      <td>NaN</td>\n",
       "    </tr>\n",
       "    <tr>\n",
       "      <th>61069</th>\n",
       "      <td>61069</td>\n",
       "      <td>Ty Larson</td>\n",
       "      <td>Texas Tech</td>\n",
       "      <td>B12</td>\n",
       "      <td>1</td>\n",
       "      <td>0.1</td>\n",
       "      <td>0.0</td>\n",
       "      <td>0.0</td>\n",
       "      <td>0.0</td>\n",
       "      <td>0.00</td>\n",
       "      <td>...</td>\n",
       "      <td>0.0000</td>\n",
       "      <td>0.0000</td>\n",
       "      <td>0.0000</td>\n",
       "      <td>PF/C</td>\n",
       "      <td>0.00000</td>\n",
       "      <td>NaN</td>\n",
       "      <td>NaN</td>\n",
       "      <td>NaN</td>\n",
       "      <td>NaN</td>\n",
       "      <td>NaN</td>\n",
       "    </tr>\n",
       "    <tr>\n",
       "      <th>61070</th>\n",
       "      <td>61070</td>\n",
       "      <td>Jaden Jones</td>\n",
       "      <td>Rutgers</td>\n",
       "      <td>B10</td>\n",
       "      <td>4</td>\n",
       "      <td>1.0</td>\n",
       "      <td>89.6</td>\n",
       "      <td>28.8</td>\n",
       "      <td>25.0</td>\n",
       "      <td>25.00</td>\n",
       "      <td>...</td>\n",
       "      <td>0.0000</td>\n",
       "      <td>0.0000</td>\n",
       "      <td>0.7500</td>\n",
       "      <td>Pure PG</td>\n",
       "      <td>10.43920</td>\n",
       "      <td>NaN</td>\n",
       "      <td>NaN</td>\n",
       "      <td>NaN</td>\n",
       "      <td>NaN</td>\n",
       "      <td>NaN</td>\n",
       "    </tr>\n",
       "  </tbody>\n",
       "</table>\n",
       "<p>61071 rows × 71 columns</p>\n",
       "</div>"
      ],
      "text/plain": [
       "       Unnamed: 0         player_name             team_x  conf  GP  Min_per  \\\n",
       "0               0       DeAndrae Ross      South Alabama    SB  26     29.5   \n",
       "1               1       DeAndrae Ross               Troy    SB   7     11.5   \n",
       "2               2       Pooh Williams           Utah St.   WAC  34     60.9   \n",
       "3               3       Pooh Williams           Utah St.   WAC  32     64.0   \n",
       "4               4       Pooh Williams           Utah St.   WAC  33     64.5   \n",
       "...           ...                 ...                ...   ...  ..      ...   \n",
       "61066       61066       Kamron Battle  Northern Illinois   MAC   2      0.5   \n",
       "61067       61067  Stavros Polatoglou   Northwestern St.  Slnd   4      1.3   \n",
       "61068       61068          Sandy Ryan             Tulane  Amer   1      0.1   \n",
       "61069       61069           Ty Larson         Texas Tech   B12   1      0.1   \n",
       "61070       61070         Jaden Jones            Rutgers   B10   4      1.0   \n",
       "\n",
       "        Ortg   usg   eFG  TS_per  ...     stl     blk     pts  Unnamed: 64  \\\n",
       "0       97.3  16.6  42.5   44.43  ...  0.3462  0.0385  3.8846          NaN   \n",
       "1       67.1  16.9  34.5   36.11  ...  0.1429  0.0000  3.2857       Wing G   \n",
       "2      108.3  14.9  52.4   54.48  ...  0.4118  0.2353  5.9412          NaN   \n",
       "3      108.3  18.1  53.0   53.33  ...  0.5938  0.2188  8.7812      Combo G   \n",
       "4      105.6  18.7  48.1   52.40  ...  0.2121  0.0909  8.6667      Combo G   \n",
       "...      ...   ...   ...     ...  ...     ...     ...     ...          ...   \n",
       "61066    0.0   0.0   0.0    0.00  ...  0.0000  0.0000  0.0000         PF/C   \n",
       "61067   28.3   7.1   0.0    0.00  ...  0.0000  0.0000  0.0000            C   \n",
       "61068    0.0   0.0   0.0    0.00  ...  0.0000  0.0000  0.0000         PF/C   \n",
       "61069    0.0   0.0   0.0    0.00  ...  0.0000  0.0000  0.0000         PF/C   \n",
       "61070   89.6  28.8  25.0   25.00  ...  0.0000  0.0000  0.7500      Pure PG   \n",
       "\n",
       "       Unnamed: 65  nba team  team_y  year_y  ROUND NUMBER  ROUND PICK  \n",
       "0          6.22026       NaN     NaN     NaN           NaN         NaN  \n",
       "1          7.67089       NaN     NaN     NaN           NaN         NaN  \n",
       "2          3.94375       NaN     NaN     NaN           NaN         NaN  \n",
       "3          7.30085       NaN     NaN     NaN           NaN         NaN  \n",
       "4          9.66297       NaN     NaN     NaN           NaN         NaN  \n",
       "...            ...       ...     ...     ...           ...         ...  \n",
       "61066      0.00000       NaN     NaN     NaN           NaN         NaN  \n",
       "61067      0.00000       NaN     NaN     NaN           NaN         NaN  \n",
       "61068      0.00000       NaN     NaN     NaN           NaN         NaN  \n",
       "61069      0.00000       NaN     NaN     NaN           NaN         NaN  \n",
       "61070     10.43920       NaN     NaN     NaN           NaN         NaN  \n",
       "\n",
       "[61071 rows x 71 columns]"
      ]
     },
     "execution_count": 64,
     "metadata": {},
     "output_type": "execute_result"
    }
   ],
   "source": [
    "droppedstats2 =df.dropna(axis=0, subset=[\"Min_per\", \"ORB_per\", \"DRB_per\", \"AST_per\", \"stl_per\", \"blk_per\", \"TO_per\", \"twoP_per\", \"TP_per\", \"FT_per\", \"eFG\", \"porpag\", \"adjoe\"])\n",
    "droppedstats2"
   ]
  },
  {
   "cell_type": "code",
   "execution_count": 65,
   "id": "947a3554",
   "metadata": {},
   "outputs": [],
   "source": [
    "newdf2 = droppedstats2['draft_status'].astype(int)\n",
    "#newdf"
   ]
  },
  {
   "cell_type": "code",
   "execution_count": 66,
   "id": "76982668",
   "metadata": {},
   "outputs": [],
   "source": [
    "# trying new stats to get better predictions\n",
    "stats3 = [\"Min_per\", \"ORB_per\", \"DRB_per\", \"AST_per\", \"stl_per\", \"blk_per\", \"TO_per\", \"twoP_per\", \"TP_per\", \"FT_per\", \"eFG\", \"porpag\", \"adjoe\"]\n",
    "X3 = droppedstats2[stats3]\n",
    "y3 = newdf2"
   ]
  },
  {
   "cell_type": "code",
   "execution_count": 67,
   "id": "bb0a6453",
   "metadata": {},
   "outputs": [],
   "source": [
    "# train test split\n",
    "X3_train, X3_test, y3_train, y3_test = train_test_split(X3, y3, random_state=1)\n",
    "scaler3 = StandardScaler().fit(X3_train)\n",
    "X3_train_scaled = scaler3.transform(X3_train)\n",
    "X3_test_scaled = scaler3.transform(X3_test)"
   ]
  },
  {
   "cell_type": "code",
   "execution_count": 68,
   "id": "86cd4675",
   "metadata": {},
   "outputs": [
    {
     "data": {
      "text/plain": [
       "LogisticRegression()"
      ]
     },
     "execution_count": 68,
     "metadata": {},
     "output_type": "execute_result"
    }
   ],
   "source": [
    "# create a logistic regression model\n",
    "classifier3 = LogisticRegression()\n",
    "classifier3"
   ]
  },
  {
   "cell_type": "code",
   "execution_count": 69,
   "id": "c76622d1",
   "metadata": {
    "scrolled": false
   },
   "outputs": [
    {
     "data": {
      "text/plain": [
       "LogisticRegression()"
      ]
     },
     "execution_count": 69,
     "metadata": {},
     "output_type": "execute_result"
    }
   ],
   "source": [
    "# fit the model to the data\n",
    "classifier3.fit(X3_train_scaled, y3_train)"
   ]
  },
  {
   "cell_type": "code",
   "execution_count": 70,
   "id": "d7d6cb40",
   "metadata": {},
   "outputs": [
    {
     "data": {
      "text/plain": [
       "array([[14887,    24],\n",
       "       [  319,    38]], dtype=int64)"
      ]
     },
     "execution_count": 70,
     "metadata": {},
     "output_type": "execute_result"
    }
   ],
   "source": [
    "# confusion matrix for logistic regression new stats\n",
    "predictions3 = classifier3.predict(X3_test_scaled)\n",
    "confusion_matrix(y3_test, predictions3)"
   ]
  },
  {
   "cell_type": "code",
   "execution_count": 71,
   "id": "2d84d6cd",
   "metadata": {
    "scrolled": true
   },
   "outputs": [
    {
     "name": "stdout",
     "output_type": "stream",
     "text": [
      "              precision    recall  f1-score   support\n",
      "\n",
      "           0       0.98      1.00      0.99     14911\n",
      "           1       0.61      0.11      0.18       357\n",
      "\n",
      "    accuracy                           0.98     15268\n",
      "   macro avg       0.80      0.55      0.58     15268\n",
      "weighted avg       0.97      0.98      0.97     15268\n",
      "\n"
     ]
    }
   ],
   "source": [
    "# classification report for logistic regression with new stats\n",
    "print(classification_report(y3_test, predictions3))"
   ]
  },
  {
   "cell_type": "code",
   "execution_count": 72,
   "id": "15966418",
   "metadata": {
    "scrolled": true
   },
   "outputs": [],
   "source": [
    "# fit to random forest\n",
    "rcf2 = RandomForestClassifier(random_state=1, n_estimators=500).fit(X3_train_scaled, y3_train)"
   ]
  },
  {
   "cell_type": "code",
   "execution_count": 73,
   "id": "e02dddc5",
   "metadata": {},
   "outputs": [
    {
     "data": {
      "text/plain": [
       "array([[14888,    23],\n",
       "       [  300,    57]], dtype=int64)"
      ]
     },
     "execution_count": 73,
     "metadata": {},
     "output_type": "execute_result"
    }
   ],
   "source": [
    "# confusion matrix for random forest new stats3\n",
    "pred_rcf2 = rcf2.predict(X3_test_scaled)\n",
    "confusion_matrix(y3_test, pred_rcf2)"
   ]
  },
  {
   "cell_type": "code",
   "execution_count": 74,
   "id": "c91e58c2",
   "metadata": {},
   "outputs": [
    {
     "name": "stdout",
     "output_type": "stream",
     "text": [
      "              precision    recall  f1-score   support\n",
      "\n",
      "           0       0.98      1.00      0.99     14911\n",
      "           1       0.71      0.16      0.26       357\n",
      "\n",
      "    accuracy                           0.98     15268\n",
      "   macro avg       0.85      0.58      0.63     15268\n",
      "weighted avg       0.97      0.98      0.97     15268\n",
      "\n"
     ]
    }
   ],
   "source": [
    "# classification report for rcf2 with new stats3\n",
    "print(classification_report(y3_test, pred_rcf2))"
   ]
  },
  {
   "cell_type": "code",
   "execution_count": 75,
   "id": "51a31d76",
   "metadata": {
    "scrolled": true
   },
   "outputs": [
    {
     "name": "stdout",
     "output_type": "stream",
     "text": [
      "[0.07879231 0.05985564 0.06408475 0.06412499 0.05537504 0.08068429\n",
      " 0.06808029 0.06407932 0.05205935 0.06966499 0.06308108 0.15434243\n",
      " 0.1257755 ]\n"
     ]
    },
    {
     "data": {
      "image/png": "[encoded data removed]",
      "text/plain": [
       "<Figure size 432x288 with 1 Axes>"
      ]
     },
     "metadata": {
      "needs_background": "light"
     },
     "output_type": "display_data"
    }
   ],
   "source": [
    "features2 = rcf2.feature_importances_\n",
    "#xlabels = [\"PointsPerGame\", \"TotalRebounds\", \"Assists\", \"Steals\", \"Blocks\", \"Assist/TO Ratio\", \"MinutesPlayedPerGame\",\"FTPercentage\", \"EffectiveFeildGoalPercentage\"]\n",
    "print(features2)\n",
    "plt.bar(x=range(len(features2)), height=features2)\n",
    "plt.xticks(np.arange(13), [\"Min_per\", \"ORB_per\", \"DRB_per\", \"AST_per\", \"stl_per\", \"blk_per\", \"TO_per\", \"twoP_per\", \"TP_per\", \"FT_per\", \"eFG\", \"porpag\", \"adjoe\"], rotation=90)\n",
    "\n",
    "plt.ylabel(\"Feature Importance\")\n",
    "plt.show()"
   ]
  },
  {
   "cell_type": "code",
   "execution_count": 98,
   "id": "1248fc77",
   "metadata": {},
   "outputs": [],
   "source": [
    "# trying new stats to get better predictions (stats4)\n",
    "stats4 = [\"Min_per\", \"Ortg\", \"AST_per\", \"blk_per\", \"TO_per\", \"twoP_per\", \"TP_per\", \"FT_per\", \"eFG\", \"porpag\", \"adjoe\"]\n",
    "X4 = droppedstats2[stats4]\n",
    "y4 = newdf2"
   ]
  },
  {
   "cell_type": "code",
   "execution_count": 99,
   "id": "14773509",
   "metadata": {},
   "outputs": [],
   "source": [
    "# train test split\n",
    "X4_train, X4_test, y4_train, y4_test = train_test_split(X4, y4, random_state=1)\n",
    "scaler4 = StandardScaler().fit(X4_train)\n",
    "X4_train_scaled = scaler4.transform(X4_train)\n",
    "X4_test_scaled = scaler4.transform(X4_test)"
   ]
  },
  {
   "cell_type": "code",
   "execution_count": 100,
   "id": "b7feb55d",
   "metadata": {},
   "outputs": [
    {
     "data": {
      "text/plain": [
       "LogisticRegression()"
      ]
     },
     "execution_count": 100,
     "metadata": {},
     "output_type": "execute_result"
    }
   ],
   "source": [
    "# create a logistic regression model\n",
    "classifier4 = LogisticRegression()\n",
    "classifier4"
   ]
  },
  {
   "cell_type": "code",
   "execution_count": 101,
   "id": "8d89bfb7",
   "metadata": {
    "scrolled": false
   },
   "outputs": [
    {
     "data": {
      "text/plain": [
       "LogisticRegression()"
      ]
     },
     "execution_count": 101,
     "metadata": {},
     "output_type": "execute_result"
    }
   ],
   "source": [
    "# fit the model to the data\n",
    "classifier4.fit(X4_train_scaled, y4_train)"
   ]
  },
  {
   "cell_type": "code",
   "execution_count": 102,
   "id": "128d0c84",
   "metadata": {},
   "outputs": [
    {
     "data": {
      "text/plain": [
       "array([[14888,    23],\n",
       "       [  314,    43]], dtype=int64)"
      ]
     },
     "execution_count": 102,
     "metadata": {},
     "output_type": "execute_result"
    }
   ],
   "source": [
    "# confusion matrix for logistic regression new stats\n",
    "predictions4 = classifier4.predict(X4_test_scaled)\n",
    "confusion_matrix(y4_test, predictions4)"
   ]
  },
  {
   "cell_type": "code",
   "execution_count": 103,
   "id": "e49a9892",
   "metadata": {
    "scrolled": true
   },
   "outputs": [
    {
     "name": "stdout",
     "output_type": "stream",
     "text": [
      "              precision    recall  f1-score   support\n",
      "\n",
      "           0       0.98      1.00      0.99     14911\n",
      "           1       0.65      0.12      0.20       357\n",
      "\n",
      "    accuracy                           0.98     15268\n",
      "   macro avg       0.82      0.56      0.60     15268\n",
      "weighted avg       0.97      0.98      0.97     15268\n",
      "\n"
     ]
    }
   ],
   "source": [
    "# classification report for logistic regression with new stats\n",
    "print(classification_report(y4_test, predictions4))"
   ]
  },
  {
   "cell_type": "code",
   "execution_count": 104,
   "id": "cb6dbff4",
   "metadata": {
    "scrolled": true
   },
   "outputs": [],
   "source": [
    "# fit to random forest\n",
    "rcf3 = RandomForestClassifier(random_state=1, n_estimators=500).fit(X4_train_scaled, y4_train)"
   ]
  },
  {
   "cell_type": "code",
   "execution_count": 105,
   "id": "b7f04d75",
   "metadata": {
    "scrolled": true
   },
   "outputs": [
    {
     "data": {
      "text/plain": [
       "array([[14883,    28],\n",
       "       [  297,    60]], dtype=int64)"
      ]
     },
     "execution_count": 105,
     "metadata": {},
     "output_type": "execute_result"
    }
   ],
   "source": [
    "# confusion matrix for random forest new stats4\n",
    "pred_rcf3 = rcf3.predict(X4_test_scaled)\n",
    "confusion_matrix(y4_test, pred_rcf3)"
   ]
  },
  {
   "cell_type": "code",
   "execution_count": 106,
   "id": "934ccbb8",
   "metadata": {},
   "outputs": [
    {
     "name": "stdout",
     "output_type": "stream",
     "text": [
      "              precision    recall  f1-score   support\n",
      "\n",
      "           0       0.98      1.00      0.99     14911\n",
      "           1       0.68      0.17      0.27       357\n",
      "\n",
      "    accuracy                           0.98     15268\n",
      "   macro avg       0.83      0.58      0.63     15268\n",
      "weighted avg       0.97      0.98      0.97     15268\n",
      "\n"
     ]
    }
   ],
   "source": [
    "# classification report for rcf2 with new stats4\n",
    "print(classification_report(y4_test, pred_rcf3))"
   ]
  },
  {
   "cell_type": "markdown",
   "id": "21d4a377",
   "metadata": {},
   "source": [
    "Try No. 5"
   ]
  },
  {
   "cell_type": "code",
   "execution_count": 107,
   "id": "9adcb263",
   "metadata": {},
   "outputs": [],
   "source": [
    "# trying new stats to get better predictions (stats4)\n",
    "stats5 = [\"Min_per\", \"Ortg\", \"usg\", \"eFG\", \"TS_per\", \"AST_per\", \"blk_per\", \"TO_per\", \"FT_per\", \"eFG\", \"porpag\", \"adjoe\"]\n",
    "X5 = droppedstats2[stats5]\n",
    "y5 = newdf2"
   ]
  },
  {
   "cell_type": "code",
   "execution_count": 108,
   "id": "400b4f5a",
   "metadata": {},
   "outputs": [],
   "source": [
    "# train test split\n",
    "X5_train, X5_test, y5_train, y5_test = train_test_split(X5, y5, random_state=1)\n",
    "scaler5 = StandardScaler().fit(X5_train)\n",
    "X5_train_scaled = scaler5.transform(X5_train)\n",
    "X5_test_scaled = scaler5.transform(X5_test)"
   ]
  },
  {
   "cell_type": "code",
   "execution_count": 109,
   "id": "b8618ff6",
   "metadata": {},
   "outputs": [
    {
     "data": {
      "text/plain": [
       "LogisticRegression()"
      ]
     },
     "execution_count": 109,
     "metadata": {},
     "output_type": "execute_result"
    }
   ],
   "source": [
    "# create a logistic regression model\n",
    "classifier5 = LogisticRegression()\n",
    "classifier5"
   ]
  },
  {
   "cell_type": "code",
   "execution_count": 110,
   "id": "2f4a837b",
   "metadata": {
    "scrolled": false
   },
   "outputs": [
    {
     "data": {
      "text/plain": [
       "LogisticRegression()"
      ]
     },
     "execution_count": 110,
     "metadata": {},
     "output_type": "execute_result"
    }
   ],
   "source": [
    "# fit the model to the data\n",
    "classifier5.fit(X5_train_scaled, y5_train)"
   ]
  },
  {
   "cell_type": "code",
   "execution_count": 111,
   "id": "8812a952",
   "metadata": {},
   "outputs": [
    {
     "data": {
      "text/plain": [
       "array([[14886,    25],\n",
       "       [  307,    50]], dtype=int64)"
      ]
     },
     "execution_count": 111,
     "metadata": {},
     "output_type": "execute_result"
    }
   ],
   "source": [
    "# confusion matrix for logistic regression new stats\n",
    "predictions5 = classifier5.predict(X5_test_scaled)\n",
    "confusion_matrix(y5_test, predictions5)"
   ]
  },
  {
   "cell_type": "code",
   "execution_count": 112,
   "id": "5ebde1ac",
   "metadata": {
    "scrolled": true
   },
   "outputs": [
    {
     "name": "stdout",
     "output_type": "stream",
     "text": [
      "              precision    recall  f1-score   support\n",
      "\n",
      "           0       0.98      1.00      0.99     14911\n",
      "           1       0.67      0.14      0.23       357\n",
      "\n",
      "    accuracy                           0.98     15268\n",
      "   macro avg       0.82      0.57      0.61     15268\n",
      "weighted avg       0.97      0.98      0.97     15268\n",
      "\n"
     ]
    }
   ],
   "source": [
    "# classification report for logistic regression with new stats\n",
    "print(classification_report(y5_test, predictions5))"
   ]
  },
  {
   "cell_type": "code",
   "execution_count": 113,
   "id": "0244cbe6",
   "metadata": {
    "scrolled": true
   },
   "outputs": [],
   "source": [
    "# fit to random forest\n",
    "rcf4 = RandomForestClassifier(random_state=1, n_estimators=500).fit(X5_train_scaled, y5_train)"
   ]
  },
  {
   "cell_type": "code",
   "execution_count": 114,
   "id": "1e9c07ce",
   "metadata": {
    "scrolled": true
   },
   "outputs": [
    {
     "data": {
      "text/plain": [
       "array([[14890,    21],\n",
       "       [  298,    59]], dtype=int64)"
      ]
     },
     "execution_count": 114,
     "metadata": {},
     "output_type": "execute_result"
    }
   ],
   "source": [
    "# confusion matrix for random forest new stats4\n",
    "pred_rcf4 = rcf4.predict(X5_test_scaled)\n",
    "confusion_matrix(y5_test, pred_rcf4)"
   ]
  },
  {
   "cell_type": "code",
   "execution_count": 115,
   "id": "4d3c66e0",
   "metadata": {},
   "outputs": [
    {
     "name": "stdout",
     "output_type": "stream",
     "text": [
      "              precision    recall  f1-score   support\n",
      "\n",
      "           0       0.98      1.00      0.99     14911\n",
      "           1       0.74      0.17      0.27       357\n",
      "\n",
      "    accuracy                           0.98     15268\n",
      "   macro avg       0.86      0.58      0.63     15268\n",
      "weighted avg       0.97      0.98      0.97     15268\n",
      "\n"
     ]
    }
   ],
   "source": [
    "# classification report for rcf2 with new stats4\n",
    "print(classification_report(y5_test, pred_rcf4))"
   ]
  },
  {
   "cell_type": "code",
   "execution_count": null,
   "id": "644d303a",
   "metadata": {},
   "outputs": [],
   "source": []
  },
  {
   "cell_type": "markdown",
   "id": "b1e9e665",
   "metadata": {},
   "source": [
    "Try No. 6"
   ]
  },
  {
   "cell_type": "code",
   "execution_count": 116,
   "id": "1326c3a9",
   "metadata": {},
   "outputs": [],
   "source": [
    "# trying new stats to get better predictions (stats4)\n",
    "stats6 = [\"GP\", \"Min_per\", \"Ortg\", \"usg\", \"eFG\", \"TS_per\", \"AST_per\", \"TO_per\", \"blk_per\", \"FT_per\", \"porpag\", \"adjoe\"]\n",
    "X6 = droppedstats2[stats6]\n",
    "y6 = newdf2"
   ]
  },
  {
   "cell_type": "code",
   "execution_count": 117,
   "id": "b82f4676",
   "metadata": {},
   "outputs": [],
   "source": [
    "# train test split\n",
    "X6_train, X6_test, y6_train, y6_test = train_test_split(X6, y6, random_state=1)\n",
    "scaler6 = StandardScaler().fit(X6_train)\n",
    "X6_train_scaled = scaler6.transform(X6_train)\n",
    "X6_test_scaled = scaler6.transform(X6_test)"
   ]
  },
  {
   "cell_type": "code",
   "execution_count": 118,
   "id": "75923c87",
   "metadata": {},
   "outputs": [
    {
     "data": {
      "text/plain": [
       "LogisticRegression()"
      ]
     },
     "execution_count": 118,
     "metadata": {},
     "output_type": "execute_result"
    }
   ],
   "source": [
    "# create a logistic regression model\n",
    "classifier6 = LogisticRegression()\n",
    "classifier6"
   ]
  },
  {
   "cell_type": "code",
   "execution_count": 119,
   "id": "7e882390",
   "metadata": {
    "scrolled": false
   },
   "outputs": [
    {
     "data": {
      "text/plain": [
       "LogisticRegression()"
      ]
     },
     "execution_count": 119,
     "metadata": {},
     "output_type": "execute_result"
    }
   ],
   "source": [
    "# fit the model to the data\n",
    "classifier6.fit(X6_train_scaled, y6_train)"
   ]
  },
  {
   "cell_type": "code",
   "execution_count": 120,
   "id": "81223d32",
   "metadata": {},
   "outputs": [
    {
     "data": {
      "text/plain": [
       "array([[14883,    28],\n",
       "       [  298,    59]], dtype=int64)"
      ]
     },
     "execution_count": 120,
     "metadata": {},
     "output_type": "execute_result"
    }
   ],
   "source": [
    "# confusion matrix for logistic regression new stats\n",
    "predictions6 = classifier6.predict(X6_test_scaled)\n",
    "confusion_matrix(y6_test, predictions6)"
   ]
  },
  {
   "cell_type": "code",
   "execution_count": 121,
   "id": "5d6eaad2",
   "metadata": {
    "scrolled": true
   },
   "outputs": [
    {
     "name": "stdout",
     "output_type": "stream",
     "text": [
      "              precision    recall  f1-score   support\n",
      "\n",
      "           0       0.98      1.00      0.99     14911\n",
      "           1       0.68      0.17      0.27       357\n",
      "\n",
      "    accuracy                           0.98     15268\n",
      "   macro avg       0.83      0.58      0.63     15268\n",
      "weighted avg       0.97      0.98      0.97     15268\n",
      "\n"
     ]
    }
   ],
   "source": [
    "# classification report for logistic regression with new stats\n",
    "print(classification_report(y6_test, predictions6))"
   ]
  },
  {
   "cell_type": "code",
   "execution_count": 122,
   "id": "648ba29a",
   "metadata": {
    "scrolled": true
   },
   "outputs": [],
   "source": [
    "# fit to random forest\n",
    "rcf5 = RandomForestClassifier(random_state=1, n_estimators=500).fit(X6_train_scaled, y6_train)"
   ]
  },
  {
   "cell_type": "code",
   "execution_count": 123,
   "id": "977cdea3",
   "metadata": {
    "scrolled": true
   },
   "outputs": [
    {
     "data": {
      "text/plain": [
       "array([[14889,    22],\n",
       "       [  293,    64]], dtype=int64)"
      ]
     },
     "execution_count": 123,
     "metadata": {},
     "output_type": "execute_result"
    }
   ],
   "source": [
    "# confusion matrix for random forest new stats4\n",
    "pred_rcf5 = rcf5.predict(X6_test_scaled)\n",
    "confusion_matrix(y6_test, pred_rcf5)"
   ]
  },
  {
   "cell_type": "code",
   "execution_count": 124,
   "id": "67399bfd",
   "metadata": {
    "scrolled": true
   },
   "outputs": [
    {
     "name": "stdout",
     "output_type": "stream",
     "text": [
      "              precision    recall  f1-score   support\n",
      "\n",
      "           0       0.98      1.00      0.99     14911\n",
      "           1       0.74      0.18      0.29       357\n",
      "\n",
      "    accuracy                           0.98     15268\n",
      "   macro avg       0.86      0.59      0.64     15268\n",
      "weighted avg       0.98      0.98      0.97     15268\n",
      "\n"
     ]
    }
   ],
   "source": [
    "# classification report for rcf2 with new stats4\n",
    "print(classification_report(y6_test, pred_rcf5))"
   ]
  },
  {
   "cell_type": "code",
   "execution_count": 125,
   "id": "dcece850",
   "metadata": {},
   "outputs": [
    {
     "name": "stdout",
     "output_type": "stream",
     "text": [
      "[0.08879876 0.07780834 0.07164995 0.06841605 0.06116081 0.07054674\n",
      " 0.06698306 0.06837372 0.0851268  0.07087552 0.14880659 0.12145365]\n"
     ]
    },
    {
     "data": {
      "image/png": "[encoded data removed]",
      "text/plain": [
       "<Figure size 432x288 with 1 Axes>"
      ]
     },
     "metadata": {
      "needs_background": "light"
     },
     "output_type": "display_data"
    }
   ],
   "source": [
    "features3 = rcf5.feature_importances_\n",
    "#xlabels = [\"PointsPerGame\", \"TotalRebounds\", \"Assists\", \"Steals\", \"Blocks\", \"Assist/TO Ratio\", \"MinutesPlayedPerGame\",\"FTPercentage\", \"EffectiveFeildGoalPercentage\"]\n",
    "print(features3)\n",
    "plt.bar(x=range(len(features3)), height=features3)\n",
    "plt.xticks(np.arange(12), [\"GP\", \"Min_per\", \"Ortg\", \"usg\", \"eFG\", \"TS_per\", \"AST_per\", \"TO_per\", \"blk_per\", \"FT_per\", \"porpag\", \"adjoe\"], rotation=90)\n",
    "\n",
    "plt.ylabel(\"Feature Importance\")\n",
    "plt.show()"
   ]
  },
  {
   "cell_type": "code",
   "execution_count": null,
   "id": "969a71c0",
   "metadata": {},
   "outputs": [],
   "source": []
  },
  {
   "cell_type": "markdown",
   "id": "d401916c",
   "metadata": {},
   "source": [
    "Try No. 7"
   ]
  },
  {
   "cell_type": "code",
   "execution_count": 136,
   "id": "77a766ba",
   "metadata": {},
   "outputs": [],
   "source": [
    "# trying new stats to get better predictions (stats4)\n",
    "stats7 = [\"GP\", \"Min_per\", \"Ortg\", \"TS_per\", \"AST_per\", \"TO_per\", \"blk_per\", \"FT_per\", \"porpag\", \"adjoe\"]\n",
    "X7 = droppedstats2[stats7]\n",
    "y7 = newdf2"
   ]
  },
  {
   "cell_type": "code",
   "execution_count": 137,
   "id": "e1a71a4b",
   "metadata": {},
   "outputs": [],
   "source": [
    "# train test split\n",
    "X7_train, X7_test, y7_train, y7_test = train_test_split(X7, y7, random_state=1)\n",
    "scaler7 = StandardScaler().fit(X7_train)\n",
    "X7_train_scaled = scaler7.transform(X7_train)\n",
    "X7_test_scaled = scaler7.transform(X7_test)"
   ]
  },
  {
   "cell_type": "code",
   "execution_count": 138,
   "id": "5dd1f0a6",
   "metadata": {},
   "outputs": [
    {
     "data": {
      "text/plain": [
       "LogisticRegression()"
      ]
     },
     "execution_count": 138,
     "metadata": {},
     "output_type": "execute_result"
    }
   ],
   "source": [
    "# create a logistic regression model\n",
    "classifier7 = LogisticRegression()\n",
    "classifier7"
   ]
  },
  {
   "cell_type": "code",
   "execution_count": 139,
   "id": "58233259",
   "metadata": {
    "scrolled": false
   },
   "outputs": [
    {
     "data": {
      "text/plain": [
       "LogisticRegression()"
      ]
     },
     "execution_count": 139,
     "metadata": {},
     "output_type": "execute_result"
    }
   ],
   "source": [
    "# fit the model to the data\n",
    "classifier7.fit(X7_train_scaled, y7_train)"
   ]
  },
  {
   "cell_type": "code",
   "execution_count": 140,
   "id": "629ea2aa",
   "metadata": {},
   "outputs": [
    {
     "data": {
      "text/plain": [
       "array([[14885,    26],\n",
       "       [  299,    58]], dtype=int64)"
      ]
     },
     "execution_count": 140,
     "metadata": {},
     "output_type": "execute_result"
    }
   ],
   "source": [
    "# confusion matrix for logistic regression new stats\n",
    "predictions7 = classifier7.predict(X7_test_scaled)\n",
    "confusion_matrix(y7_test, predictions7)"
   ]
  },
  {
   "cell_type": "code",
   "execution_count": 141,
   "id": "dd350022",
   "metadata": {
    "scrolled": true
   },
   "outputs": [
    {
     "name": "stdout",
     "output_type": "stream",
     "text": [
      "              precision    recall  f1-score   support\n",
      "\n",
      "           0       0.98      1.00      0.99     14911\n",
      "           1       0.69      0.16      0.26       357\n",
      "\n",
      "    accuracy                           0.98     15268\n",
      "   macro avg       0.84      0.58      0.63     15268\n",
      "weighted avg       0.97      0.98      0.97     15268\n",
      "\n"
     ]
    }
   ],
   "source": [
    "# classification report for logistic regression with new stats\n",
    "print(classification_report(y7_test, predictions7))"
   ]
  },
  {
   "cell_type": "code",
   "execution_count": 142,
   "id": "c7d730c5",
   "metadata": {
    "scrolled": true
   },
   "outputs": [],
   "source": [
    "# fit to random forest\n",
    "rcf6 = RandomForestClassifier(random_state=1, n_estimators=500).fit(X7_train_scaled, y7_train)"
   ]
  },
  {
   "cell_type": "code",
   "execution_count": 143,
   "id": "66b3854d",
   "metadata": {
    "scrolled": true
   },
   "outputs": [
    {
     "data": {
      "text/plain": [
       "array([[14880,    31],\n",
       "       [  285,    72]], dtype=int64)"
      ]
     },
     "execution_count": 143,
     "metadata": {},
     "output_type": "execute_result"
    }
   ],
   "source": [
    "# confusion matrix for random forest new stats4\n",
    "pred_rcf6 = rcf6.predict(X7_test_scaled)\n",
    "confusion_matrix(y7_test, pred_rcf6)"
   ]
  },
  {
   "cell_type": "code",
   "execution_count": 144,
   "id": "03744fdb",
   "metadata": {
    "scrolled": true
   },
   "outputs": [
    {
     "name": "stdout",
     "output_type": "stream",
     "text": [
      "              precision    recall  f1-score   support\n",
      "\n",
      "           0       0.98      1.00      0.99     14911\n",
      "           1       0.70      0.20      0.31       357\n",
      "\n",
      "    accuracy                           0.98     15268\n",
      "   macro avg       0.84      0.60      0.65     15268\n",
      "weighted avg       0.97      0.98      0.97     15268\n",
      "\n"
     ]
    }
   ],
   "source": [
    "# classification report for rcf2 with new stats4\n",
    "print(classification_report(y7_test, pred_rcf6))"
   ]
  },
  {
   "cell_type": "code",
   "execution_count": 145,
   "id": "cf133606",
   "metadata": {},
   "outputs": [
    {
     "name": "stdout",
     "output_type": "stream",
     "text": [
      "[0.09375669 0.08972434 0.08315478 0.0858843  0.07883422 0.08127901\n",
      " 0.09615611 0.08298512 0.17198087 0.13624455]\n"
     ]
    },
    {
     "data": {
      "image/png": "[encoded data removed]",
      "text/plain": [
       "<Figure size 432x288 with 1 Axes>"
      ]
     },
     "metadata": {
      "needs_background": "light"
     },
     "output_type": "display_data"
    }
   ],
   "source": [
    "features4 = rcf6.feature_importances_\n",
    "print(features4)\n",
    "plt.bar(x=range(len(features4)), height=features4)\n",
    "plt.xticks(np.arange(10), [\"GP\", \"Min_per\", \"Ortg\", \"TS_per\", \"AST_per\", \"TO_per\", \"blk_per\", \"FT_per\", \"porpag\", \"adjoe\"], rotation=90)\n",
    "\n",
    "plt.ylabel(\"Feature Importance\")\n",
    "plt.show()"
   ]
  },
  {
   "cell_type": "code",
   "execution_count": null,
   "id": "a4015f0f",
   "metadata": {},
   "outputs": [],
   "source": []
  },
  {
   "cell_type": "markdown",
   "id": "41a37693",
   "metadata": {},
   "source": [
    "Try No. 8"
   ]
  },
  {
   "cell_type": "code",
   "execution_count": 157,
   "id": "c6321350",
   "metadata": {},
   "outputs": [],
   "source": [
    "# trying new stats to get better predictions (stats4)\n",
    "stats8 = [\"GP\", \"Min_per\", \"Ortg\", \"TS_per\", \"AST_per\", \"TO_per\", \"blk_per\", \"porpag\", \"adjoe\"]\n",
    "X8 = droppedstats2[stats8]\n",
    "y8 = newdf2"
   ]
  },
  {
   "cell_type": "code",
   "execution_count": 158,
   "id": "9fce6a52",
   "metadata": {},
   "outputs": [],
   "source": [
    "# train test split\n",
    "X8_train, X8_test, y8_train, y8_test = train_test_split(X8, y8, random_state=1)\n",
    "scaler8 = StandardScaler().fit(X8_train)\n",
    "X8_train_scaled = scaler8.transform(X8_train)\n",
    "X8_test_scaled = scaler8.transform(X8_test)"
   ]
  },
  {
   "cell_type": "code",
   "execution_count": 159,
   "id": "cbaab108",
   "metadata": {},
   "outputs": [
    {
     "data": {
      "text/plain": [
       "LogisticRegression()"
      ]
     },
     "execution_count": 159,
     "metadata": {},
     "output_type": "execute_result"
    }
   ],
   "source": [
    "# create a logistic regression model\n",
    "classifier8 = LogisticRegression()\n",
    "classifier8"
   ]
  },
  {
   "cell_type": "code",
   "execution_count": 160,
   "id": "9e1e68f7",
   "metadata": {
    "scrolled": false
   },
   "outputs": [
    {
     "data": {
      "text/plain": [
       "LogisticRegression()"
      ]
     },
     "execution_count": 160,
     "metadata": {},
     "output_type": "execute_result"
    }
   ],
   "source": [
    "# fit the model to the data\n",
    "classifier8.fit(X8_train_scaled, y8_train)"
   ]
  },
  {
   "cell_type": "code",
   "execution_count": 161,
   "id": "1dcd8505",
   "metadata": {},
   "outputs": [
    {
     "data": {
      "text/plain": [
       "array([[14882,    29],\n",
       "       [  301,    56]], dtype=int64)"
      ]
     },
     "execution_count": 161,
     "metadata": {},
     "output_type": "execute_result"
    }
   ],
   "source": [
    "# confusion matrix for logistic regression new stats\n",
    "predictions8 = classifier8.predict(X8_test_scaled)\n",
    "confusion_matrix(y8_test, predictions8)"
   ]
  },
  {
   "cell_type": "code",
   "execution_count": 162,
   "id": "98fc3d14",
   "metadata": {
    "scrolled": true
   },
   "outputs": [
    {
     "name": "stdout",
     "output_type": "stream",
     "text": [
      "              precision    recall  f1-score   support\n",
      "\n",
      "           0       0.98      1.00      0.99     14911\n",
      "           1       0.66      0.16      0.25       357\n",
      "\n",
      "    accuracy                           0.98     15268\n",
      "   macro avg       0.82      0.58      0.62     15268\n",
      "weighted avg       0.97      0.98      0.97     15268\n",
      "\n"
     ]
    }
   ],
   "source": [
    "# classification report for logistic regression with new stats\n",
    "print(classification_report(y8_test, predictions8))"
   ]
  },
  {
   "cell_type": "code",
   "execution_count": 163,
   "id": "0f3d8444",
   "metadata": {
    "scrolled": true
   },
   "outputs": [],
   "source": [
    "# fit to random forest\n",
    "rcf7 = RandomForestClassifier(random_state=1, n_estimators=500).fit(X8_train_scaled, y8_train)"
   ]
  },
  {
   "cell_type": "code",
   "execution_count": 164,
   "id": "eab66d5e",
   "metadata": {
    "scrolled": true
   },
   "outputs": [
    {
     "data": {
      "text/plain": [
       "array([[14883,    28],\n",
       "       [  289,    68]], dtype=int64)"
      ]
     },
     "execution_count": 164,
     "metadata": {},
     "output_type": "execute_result"
    }
   ],
   "source": [
    "# confusion matrix for random forest new stats4\n",
    "pred_rcf7 = rcf7.predict(X8_test_scaled)\n",
    "confusion_matrix(y8_test, pred_rcf7)"
   ]
  },
  {
   "cell_type": "code",
   "execution_count": 165,
   "id": "5e867436",
   "metadata": {
    "scrolled": true
   },
   "outputs": [
    {
     "name": "stdout",
     "output_type": "stream",
     "text": [
      "              precision    recall  f1-score   support\n",
      "\n",
      "           0       0.98      1.00      0.99     14911\n",
      "           1       0.71      0.19      0.30       357\n",
      "\n",
      "    accuracy                           0.98     15268\n",
      "   macro avg       0.84      0.59      0.64     15268\n",
      "weighted avg       0.97      0.98      0.97     15268\n",
      "\n"
     ]
    }
   ],
   "source": [
    "# classification report for rcf2 with new stats4\n",
    "print(classification_report(y8_test, pred_rcf7))"
   ]
  },
  {
   "cell_type": "code",
   "execution_count": 166,
   "id": "3817edc3",
   "metadata": {},
   "outputs": [
    {
     "name": "stdout",
     "output_type": "stream",
     "text": [
      "[0.09810147 0.09864126 0.09078694 0.09591233 0.08928574 0.08982228\n",
      " 0.10703182 0.18335771 0.14706045]\n"
     ]
    },
    {
     "data": {
      "image/png": "[encoded data removed]",
      "text/plain": [
       "<Figure size 432x288 with 1 Axes>"
      ]
     },
     "metadata": {
      "needs_background": "light"
     },
     "output_type": "display_data"
    }
   ],
   "source": [
    "features5 = rcf7.feature_importances_\n",
    "print(features5)\n",
    "plt.bar(x=range(len(features5)), height=features5)\n",
    "plt.xticks(np.arange(9), [\"GP\", \"Min_per\", \"Ortg\", \"TS_per\", \"AST_per\", \"TO_per\", \"blk_per\", \"porpag\", \"adjoe\"], rotation=90)\n",
    "\n",
    "plt.ylabel(\"Feature Importance\")\n",
    "plt.show()"
   ]
  },
  {
   "cell_type": "code",
   "execution_count": null,
   "id": "a028c811",
   "metadata": {},
   "outputs": [],
   "source": []
  },
  {
   "cell_type": "code",
   "execution_count": null,
   "id": "9b8161cb",
   "metadata": {},
   "outputs": [],
   "source": []
  },
  {
   "cell_type": "code",
   "execution_count": null,
   "id": "70b2568b",
   "metadata": {},
   "outputs": [],
   "source": []
  },
  {
   "cell_type": "code",
   "execution_count": null,
   "id": "a42af7f8",
   "metadata": {},
   "outputs": [],
   "source": []
  },
  {
   "cell_type": "code",
   "execution_count": 13,
   "id": "35402854",
   "metadata": {
    "scrolled": true
   },
   "outputs": [
    {
     "name": "stdout",
     "output_type": "stream",
     "text": [
      "[0.14141608 0.11194565 0.10291005 0.10003782 0.12802042 0.11168157\n",
      " 0.11218158 0.09432056 0.09748627]\n"
     ]
    },
    {
     "data": {
      "image/png": "[encoded data removed]",
      "text/plain": [
       "<Figure size 432x288 with 1 Axes>"
      ]
     },
     "metadata": {
      "needs_background": "light"
     },
     "output_type": "display_data"
    }
   ],
   "source": [
    "features = rcf.feature_importances_\n",
    "#xlabels = [\"PointsPerGame\", \"TotalRebounds\", \"Assists\", \"Steals\", \"Blocks\", \"Assist/TO Ratio\", \"MinutesPlayedPerGame\",\"FTPercentage\", \"EffectiveFeildGoalPercentage\"]\n",
    "print(features)\n",
    "plt.bar(x=range(len(features)), height=features)\n",
    "plt.xticks(np.arange(9), [\"PointsPerGame\", \"TotalRebounds\", \"Assists\", \"Steals\", \"Blocks\", \"Assist/TO Ratio\", \"MinutesPlayedPerGame\",\"FTPercentage\", \"EffectiveFeildGoalPercentage\"], rotation=90)\n",
    "\n",
    "plt.ylabel(\"Feature Importance\")\n",
    "plt.show()"
   ]
  },
  {
   "cell_type": "code",
   "execution_count": 14,
   "id": "f76097b8",
   "metadata": {},
   "outputs": [],
   "source": [
    "fresh = df.loc[df['yr']==\"Fr\"]\n",
    "soph = df.loc[df['yr']==\"So\"]\n",
    "junior = df.loc[df['yr']==\"Jr\"]\n",
    "senior = df.loc[df['yr']==\"Sr\"]"
   ]
  },
  {
   "cell_type": "code",
   "execution_count": 15,
   "id": "42df284e",
   "metadata": {},
   "outputs": [
    {
     "data": {
      "text/html": [
       "<div>\n",
       "<style scoped>\n",
       "    .dataframe tbody tr th:only-of-type {\n",
       "        vertical-align: middle;\n",
       "    }\n",
       "\n",
       "    .dataframe tbody tr th {\n",
       "        vertical-align: top;\n",
       "    }\n",
       "\n",
       "    .dataframe thead th {\n",
       "        text-align: right;\n",
       "    }\n",
       "</style>\n",
       "<table border=\"1\" class=\"dataframe\">\n",
       "  <thead>\n",
       "    <tr style=\"text-align: right;\">\n",
       "      <th></th>\n",
       "      <th>Unnamed: 0</th>\n",
       "      <th>player_name</th>\n",
       "      <th>team</th>\n",
       "      <th>conf</th>\n",
       "      <th>GP</th>\n",
       "      <th>Min_per</th>\n",
       "      <th>Ortg</th>\n",
       "      <th>usg</th>\n",
       "      <th>eFG</th>\n",
       "      <th>TS_per</th>\n",
       "      <th>...</th>\n",
       "      <th>dgbpm</th>\n",
       "      <th>oreb</th>\n",
       "      <th>dreb</th>\n",
       "      <th>treb</th>\n",
       "      <th>ast</th>\n",
       "      <th>stl</th>\n",
       "      <th>blk</th>\n",
       "      <th>pts</th>\n",
       "      <th>Unnamed: 64</th>\n",
       "      <th>Unnamed: 65</th>\n",
       "    </tr>\n",
       "  </thead>\n",
       "  <tbody>\n",
       "    <tr>\n",
       "      <th>0</th>\n",
       "      <td>0</td>\n",
       "      <td>Isaiah Felder</td>\n",
       "      <td>South Carolina St.</td>\n",
       "      <td>MEAC</td>\n",
       "      <td>11</td>\n",
       "      <td>17.6</td>\n",
       "      <td>61.1</td>\n",
       "      <td>18.6</td>\n",
       "      <td>34.7</td>\n",
       "      <td>35.18</td>\n",
       "      <td>...</td>\n",
       "      <td>-4.412530</td>\n",
       "      <td>0.2727</td>\n",
       "      <td>1.4545</td>\n",
       "      <td>1.7273</td>\n",
       "      <td>0.4545</td>\n",
       "      <td>0.1818</td>\n",
       "      <td>0.0000</td>\n",
       "      <td>2.3636</td>\n",
       "      <td>Wing G</td>\n",
       "      <td>12.226400</td>\n",
       "    </tr>\n",
       "    <tr>\n",
       "      <th>1</th>\n",
       "      <td>1</td>\n",
       "      <td>Jalen Coleman-Lands</td>\n",
       "      <td>Kansas</td>\n",
       "      <td>B12</td>\n",
       "      <td>23</td>\n",
       "      <td>78.5</td>\n",
       "      <td>103.1</td>\n",
       "      <td>21.5</td>\n",
       "      <td>54.0</td>\n",
       "      <td>56.12</td>\n",
       "      <td>...</td>\n",
       "      <td>-1.019000</td>\n",
       "      <td>1.0435</td>\n",
       "      <td>2.8696</td>\n",
       "      <td>3.9130</td>\n",
       "      <td>1.1739</td>\n",
       "      <td>0.8261</td>\n",
       "      <td>0.0870</td>\n",
       "      <td>14.3043</td>\n",
       "      <td>Wing G</td>\n",
       "      <td>11.095900</td>\n",
       "    </tr>\n",
       "    <tr>\n",
       "      <th>2</th>\n",
       "      <td>2</td>\n",
       "      <td>K.J. Walton</td>\n",
       "      <td>Akron</td>\n",
       "      <td>MAC</td>\n",
       "      <td>20</td>\n",
       "      <td>63.0</td>\n",
       "      <td>108.6</td>\n",
       "      <td>26.5</td>\n",
       "      <td>54.3</td>\n",
       "      <td>58.88</td>\n",
       "      <td>...</td>\n",
       "      <td>-0.335789</td>\n",
       "      <td>2.3500</td>\n",
       "      <td>3.5500</td>\n",
       "      <td>5.9000</td>\n",
       "      <td>1.1500</td>\n",
       "      <td>1.2500</td>\n",
       "      <td>0.2000</td>\n",
       "      <td>16.3500</td>\n",
       "      <td>Wing G</td>\n",
       "      <td>0.284581</td>\n",
       "    </tr>\n",
       "    <tr>\n",
       "      <th>3</th>\n",
       "      <td>3</td>\n",
       "      <td>Jeriah Horne</td>\n",
       "      <td>Tulsa</td>\n",
       "      <td>Amer</td>\n",
       "      <td>32</td>\n",
       "      <td>61.3</td>\n",
       "      <td>116.0</td>\n",
       "      <td>20.8</td>\n",
       "      <td>55.2</td>\n",
       "      <td>58.61</td>\n",
       "      <td>...</td>\n",
       "      <td>1.721580</td>\n",
       "      <td>1.1250</td>\n",
       "      <td>4.7188</td>\n",
       "      <td>5.8438</td>\n",
       "      <td>0.9062</td>\n",
       "      <td>0.5938</td>\n",
       "      <td>0.0625</td>\n",
       "      <td>10.8125</td>\n",
       "      <td>Stretch 4</td>\n",
       "      <td>10.140700</td>\n",
       "    </tr>\n",
       "    <tr>\n",
       "      <th>4</th>\n",
       "      <td>4</td>\n",
       "      <td>Eric Curry</td>\n",
       "      <td>Minnesota</td>\n",
       "      <td>B10</td>\n",
       "      <td>29</td>\n",
       "      <td>39.2</td>\n",
       "      <td>95.1</td>\n",
       "      <td>14.7</td>\n",
       "      <td>46.3</td>\n",
       "      <td>48.72</td>\n",
       "      <td>...</td>\n",
       "      <td>2.746770</td>\n",
       "      <td>1.1034</td>\n",
       "      <td>1.9655</td>\n",
       "      <td>3.0690</td>\n",
       "      <td>0.8276</td>\n",
       "      <td>0.8276</td>\n",
       "      <td>0.2414</td>\n",
       "      <td>3.6552</td>\n",
       "      <td>Wing F</td>\n",
       "      <td>2.562430</td>\n",
       "    </tr>\n",
       "  </tbody>\n",
       "</table>\n",
       "<p>5 rows × 66 columns</p>\n",
       "</div>"
      ],
      "text/plain": [
       "   Unnamed: 0          player_name                team  conf  GP  Min_per  \\\n",
       "0           0        Isaiah Felder  South Carolina St.  MEAC  11     17.6   \n",
       "1           1  Jalen Coleman-Lands              Kansas   B12  23     78.5   \n",
       "2           2          K.J. Walton               Akron   MAC  20     63.0   \n",
       "3           3         Jeriah Horne               Tulsa  Amer  32     61.3   \n",
       "4           4           Eric Curry           Minnesota   B10  29     39.2   \n",
       "\n",
       "    Ortg   usg   eFG  TS_per  ...     dgbpm    oreb    dreb    treb     ast  \\\n",
       "0   61.1  18.6  34.7   35.18  ... -4.412530  0.2727  1.4545  1.7273  0.4545   \n",
       "1  103.1  21.5  54.0   56.12  ... -1.019000  1.0435  2.8696  3.9130  1.1739   \n",
       "2  108.6  26.5  54.3   58.88  ... -0.335789  2.3500  3.5500  5.9000  1.1500   \n",
       "3  116.0  20.8  55.2   58.61  ...  1.721580  1.1250  4.7188  5.8438  0.9062   \n",
       "4   95.1  14.7  46.3   48.72  ...  2.746770  1.1034  1.9655  3.0690  0.8276   \n",
       "\n",
       "      stl     blk      pts  Unnamed: 64  Unnamed: 65  \n",
       "0  0.1818  0.0000   2.3636       Wing G    12.226400  \n",
       "1  0.8261  0.0870  14.3043       Wing G    11.095900  \n",
       "2  1.2500  0.2000  16.3500       Wing G     0.284581  \n",
       "3  0.5938  0.0625  10.8125    Stretch 4    10.140700  \n",
       "4  0.8276  0.2414   3.6552       Wing F     2.562430  \n",
       "\n",
       "[5 rows x 66 columns]"
      ]
     },
     "execution_count": 15,
     "metadata": {},
     "output_type": "execute_result"
    }
   ],
   "source": [
    "testingfilepath = \"Resources/Potential_Draft.csv\"\n",
    "potentialdraft_df= pd.read_csv(testingfilepath)\n",
    "potentialdraft_df.head()\n",
    "\n"
   ]
  },
  {
   "cell_type": "code",
   "execution_count": 16,
   "id": "abbcb9d7",
   "metadata": {},
   "outputs": [
    {
     "data": {
      "text/plain": [
       "0       Undrafted\n",
       "1       Undrafted\n",
       "2       Undrafted\n",
       "3       Undrafted\n",
       "4       Undrafted\n",
       "          ...    \n",
       "3973    Undrafted\n",
       "3974    Undrafted\n",
       "3975    Undrafted\n",
       "3976    Undrafted\n",
       "3977    Undrafted\n",
       "Name: draft_status, Length: 3978, dtype: object"
      ]
     },
     "execution_count": 16,
     "metadata": {},
     "output_type": "execute_result"
    }
   ],
   "source": [
    "potentialdraft_df[\"draft_status\"]"
   ]
  },
  {
   "cell_type": "code",
   "execution_count": 17,
   "id": "be831360",
   "metadata": {},
   "outputs": [
    {
     "data": {
      "text/plain": [
       "0       Undrafted\n",
       "1       Undrafted\n",
       "2       Undrafted\n",
       "3       Undrafted\n",
       "4       Undrafted\n",
       "          ...    \n",
       "3973    Undrafted\n",
       "3974    Undrafted\n",
       "3975    Undrafted\n",
       "3976    Undrafted\n",
       "3977    Undrafted\n",
       "Name: draft_status, Length: 3978, dtype: object"
      ]
     },
     "execution_count": 17,
     "metadata": {},
     "output_type": "execute_result"
    }
   ],
   "source": [
    "potentialdraft_df.loc[df['draft_status'] == \"Undrafted\", 'draft_status'] = 0\n",
    "potentialdraft_df.loc[df['draft_status'] == \"Drafted\", 'draft_status'] = 1\n",
    "potentialdraft_df['draft_status']"
   ]
  },
  {
   "cell_type": "code",
   "execution_count": 18,
   "id": "97f2313b",
   "metadata": {},
   "outputs": [
    {
     "data": {
      "text/html": [
       "<div>\n",
       "<style scoped>\n",
       "    .dataframe tbody tr th:only-of-type {\n",
       "        vertical-align: middle;\n",
       "    }\n",
       "\n",
       "    .dataframe tbody tr th {\n",
       "        vertical-align: top;\n",
       "    }\n",
       "\n",
       "    .dataframe thead th {\n",
       "        text-align: right;\n",
       "    }\n",
       "</style>\n",
       "<table border=\"1\" class=\"dataframe\">\n",
       "  <thead>\n",
       "    <tr style=\"text-align: right;\">\n",
       "      <th></th>\n",
       "      <th>Unnamed: 0</th>\n",
       "      <th>player_name</th>\n",
       "      <th>team</th>\n",
       "      <th>conf</th>\n",
       "      <th>GP</th>\n",
       "      <th>Min_per</th>\n",
       "      <th>Ortg</th>\n",
       "      <th>usg</th>\n",
       "      <th>eFG</th>\n",
       "      <th>TS_per</th>\n",
       "      <th>...</th>\n",
       "      <th>dgbpm</th>\n",
       "      <th>oreb</th>\n",
       "      <th>dreb</th>\n",
       "      <th>treb</th>\n",
       "      <th>ast</th>\n",
       "      <th>stl</th>\n",
       "      <th>blk</th>\n",
       "      <th>pts</th>\n",
       "      <th>Unnamed: 64</th>\n",
       "      <th>Unnamed: 65</th>\n",
       "    </tr>\n",
       "  </thead>\n",
       "  <tbody>\n",
       "    <tr>\n",
       "      <th>0</th>\n",
       "      <td>0</td>\n",
       "      <td>Isaiah Felder</td>\n",
       "      <td>South Carolina St.</td>\n",
       "      <td>MEAC</td>\n",
       "      <td>11</td>\n",
       "      <td>17.6</td>\n",
       "      <td>61.1</td>\n",
       "      <td>18.6</td>\n",
       "      <td>34.7</td>\n",
       "      <td>35.18</td>\n",
       "      <td>...</td>\n",
       "      <td>-4.412530</td>\n",
       "      <td>0.2727</td>\n",
       "      <td>1.4545</td>\n",
       "      <td>1.7273</td>\n",
       "      <td>0.4545</td>\n",
       "      <td>0.1818</td>\n",
       "      <td>0.0000</td>\n",
       "      <td>2.3636</td>\n",
       "      <td>Wing G</td>\n",
       "      <td>12.226400</td>\n",
       "    </tr>\n",
       "    <tr>\n",
       "      <th>1</th>\n",
       "      <td>1</td>\n",
       "      <td>Jalen Coleman-Lands</td>\n",
       "      <td>Kansas</td>\n",
       "      <td>B12</td>\n",
       "      <td>23</td>\n",
       "      <td>78.5</td>\n",
       "      <td>103.1</td>\n",
       "      <td>21.5</td>\n",
       "      <td>54.0</td>\n",
       "      <td>56.12</td>\n",
       "      <td>...</td>\n",
       "      <td>-1.019000</td>\n",
       "      <td>1.0435</td>\n",
       "      <td>2.8696</td>\n",
       "      <td>3.9130</td>\n",
       "      <td>1.1739</td>\n",
       "      <td>0.8261</td>\n",
       "      <td>0.0870</td>\n",
       "      <td>14.3043</td>\n",
       "      <td>Wing G</td>\n",
       "      <td>11.095900</td>\n",
       "    </tr>\n",
       "    <tr>\n",
       "      <th>2</th>\n",
       "      <td>2</td>\n",
       "      <td>K.J. Walton</td>\n",
       "      <td>Akron</td>\n",
       "      <td>MAC</td>\n",
       "      <td>20</td>\n",
       "      <td>63.0</td>\n",
       "      <td>108.6</td>\n",
       "      <td>26.5</td>\n",
       "      <td>54.3</td>\n",
       "      <td>58.88</td>\n",
       "      <td>...</td>\n",
       "      <td>-0.335789</td>\n",
       "      <td>2.3500</td>\n",
       "      <td>3.5500</td>\n",
       "      <td>5.9000</td>\n",
       "      <td>1.1500</td>\n",
       "      <td>1.2500</td>\n",
       "      <td>0.2000</td>\n",
       "      <td>16.3500</td>\n",
       "      <td>Wing G</td>\n",
       "      <td>0.284581</td>\n",
       "    </tr>\n",
       "    <tr>\n",
       "      <th>3</th>\n",
       "      <td>3</td>\n",
       "      <td>Jeriah Horne</td>\n",
       "      <td>Tulsa</td>\n",
       "      <td>Amer</td>\n",
       "      <td>32</td>\n",
       "      <td>61.3</td>\n",
       "      <td>116.0</td>\n",
       "      <td>20.8</td>\n",
       "      <td>55.2</td>\n",
       "      <td>58.61</td>\n",
       "      <td>...</td>\n",
       "      <td>1.721580</td>\n",
       "      <td>1.1250</td>\n",
       "      <td>4.7188</td>\n",
       "      <td>5.8438</td>\n",
       "      <td>0.9062</td>\n",
       "      <td>0.5938</td>\n",
       "      <td>0.0625</td>\n",
       "      <td>10.8125</td>\n",
       "      <td>Stretch 4</td>\n",
       "      <td>10.140700</td>\n",
       "    </tr>\n",
       "    <tr>\n",
       "      <th>4</th>\n",
       "      <td>4</td>\n",
       "      <td>Eric Curry</td>\n",
       "      <td>Minnesota</td>\n",
       "      <td>B10</td>\n",
       "      <td>29</td>\n",
       "      <td>39.2</td>\n",
       "      <td>95.1</td>\n",
       "      <td>14.7</td>\n",
       "      <td>46.3</td>\n",
       "      <td>48.72</td>\n",
       "      <td>...</td>\n",
       "      <td>2.746770</td>\n",
       "      <td>1.1034</td>\n",
       "      <td>1.9655</td>\n",
       "      <td>3.0690</td>\n",
       "      <td>0.8276</td>\n",
       "      <td>0.8276</td>\n",
       "      <td>0.2414</td>\n",
       "      <td>3.6552</td>\n",
       "      <td>Wing F</td>\n",
       "      <td>2.562430</td>\n",
       "    </tr>\n",
       "    <tr>\n",
       "      <th>...</th>\n",
       "      <td>...</td>\n",
       "      <td>...</td>\n",
       "      <td>...</td>\n",
       "      <td>...</td>\n",
       "      <td>...</td>\n",
       "      <td>...</td>\n",
       "      <td>...</td>\n",
       "      <td>...</td>\n",
       "      <td>...</td>\n",
       "      <td>...</td>\n",
       "      <td>...</td>\n",
       "      <td>...</td>\n",
       "      <td>...</td>\n",
       "      <td>...</td>\n",
       "      <td>...</td>\n",
       "      <td>...</td>\n",
       "      <td>...</td>\n",
       "      <td>...</td>\n",
       "      <td>...</td>\n",
       "      <td>...</td>\n",
       "      <td>...</td>\n",
       "    </tr>\n",
       "    <tr>\n",
       "      <th>3956</th>\n",
       "      <td>3956</td>\n",
       "      <td>Mac Etienne</td>\n",
       "      <td>UCLA</td>\n",
       "      <td>P12</td>\n",
       "      <td>13</td>\n",
       "      <td>11.0</td>\n",
       "      <td>99.1</td>\n",
       "      <td>15.1</td>\n",
       "      <td>60.0</td>\n",
       "      <td>55.37</td>\n",
       "      <td>...</td>\n",
       "      <td>0.799673</td>\n",
       "      <td>0.9231</td>\n",
       "      <td>1.9231</td>\n",
       "      <td>2.8462</td>\n",
       "      <td>0.2308</td>\n",
       "      <td>0.1538</td>\n",
       "      <td>0.1538</td>\n",
       "      <td>2.6154</td>\n",
       "      <td>C</td>\n",
       "      <td>0.000000</td>\n",
       "    </tr>\n",
       "    <tr>\n",
       "      <th>3957</th>\n",
       "      <td>3957</td>\n",
       "      <td>Ryan Woods</td>\n",
       "      <td>Arkansas Pine Bluff</td>\n",
       "      <td>SWAC</td>\n",
       "      <td>7</td>\n",
       "      <td>2.8</td>\n",
       "      <td>90.1</td>\n",
       "      <td>14.7</td>\n",
       "      <td>70.0</td>\n",
       "      <td>58.82</td>\n",
       "      <td>...</td>\n",
       "      <td>1.929770</td>\n",
       "      <td>0.0000</td>\n",
       "      <td>0.0000</td>\n",
       "      <td>0.0000</td>\n",
       "      <td>0.2857</td>\n",
       "      <td>0.4286</td>\n",
       "      <td>0.0000</td>\n",
       "      <td>1.0000</td>\n",
       "      <td>Pure PG</td>\n",
       "      <td>4.113400</td>\n",
       "    </tr>\n",
       "    <tr>\n",
       "      <th>3959</th>\n",
       "      <td>3959</td>\n",
       "      <td>Lysander Rehnstrom</td>\n",
       "      <td>Navy</td>\n",
       "      <td>Pat</td>\n",
       "      <td>2</td>\n",
       "      <td>0.3</td>\n",
       "      <td>0.0</td>\n",
       "      <td>32.2</td>\n",
       "      <td>0.0</td>\n",
       "      <td>0.00</td>\n",
       "      <td>...</td>\n",
       "      <td>-13.826600</td>\n",
       "      <td>0.0000</td>\n",
       "      <td>0.0000</td>\n",
       "      <td>0.0000</td>\n",
       "      <td>0.0000</td>\n",
       "      <td>0.0000</td>\n",
       "      <td>0.0000</td>\n",
       "      <td>0.0000</td>\n",
       "      <td>PF/C</td>\n",
       "      <td>22.228300</td>\n",
       "    </tr>\n",
       "    <tr>\n",
       "      <th>3960</th>\n",
       "      <td>3960</td>\n",
       "      <td>Trey James</td>\n",
       "      <td>Iona</td>\n",
       "      <td>MAAC</td>\n",
       "      <td>2</td>\n",
       "      <td>0.8</td>\n",
       "      <td>45.9</td>\n",
       "      <td>29.9</td>\n",
       "      <td>0.0</td>\n",
       "      <td>52.63</td>\n",
       "      <td>...</td>\n",
       "      <td>-5.286060</td>\n",
       "      <td>0.5000</td>\n",
       "      <td>0.5000</td>\n",
       "      <td>1.0000</td>\n",
       "      <td>0.0000</td>\n",
       "      <td>0.0000</td>\n",
       "      <td>0.0000</td>\n",
       "      <td>0.5000</td>\n",
       "      <td>C</td>\n",
       "      <td>0.000000</td>\n",
       "    </tr>\n",
       "    <tr>\n",
       "      <th>3965</th>\n",
       "      <td>3965</td>\n",
       "      <td>Stavros Polatoglou</td>\n",
       "      <td>Northwestern St.</td>\n",
       "      <td>Slnd</td>\n",
       "      <td>4</td>\n",
       "      <td>1.3</td>\n",
       "      <td>28.3</td>\n",
       "      <td>7.1</td>\n",
       "      <td>0.0</td>\n",
       "      <td>0.00</td>\n",
       "      <td>...</td>\n",
       "      <td>-4.993820</td>\n",
       "      <td>0.2500</td>\n",
       "      <td>0.0000</td>\n",
       "      <td>0.2500</td>\n",
       "      <td>0.0000</td>\n",
       "      <td>0.0000</td>\n",
       "      <td>0.0000</td>\n",
       "      <td>0.0000</td>\n",
       "      <td>C</td>\n",
       "      <td>0.000000</td>\n",
       "    </tr>\n",
       "  </tbody>\n",
       "</table>\n",
       "<p>3400 rows × 66 columns</p>\n",
       "</div>"
      ],
      "text/plain": [
       "      Unnamed: 0          player_name                 team  conf  GP  Min_per  \\\n",
       "0              0        Isaiah Felder   South Carolina St.  MEAC  11     17.6   \n",
       "1              1  Jalen Coleman-Lands               Kansas   B12  23     78.5   \n",
       "2              2          K.J. Walton                Akron   MAC  20     63.0   \n",
       "3              3         Jeriah Horne                Tulsa  Amer  32     61.3   \n",
       "4              4           Eric Curry            Minnesota   B10  29     39.2   \n",
       "...          ...                  ...                  ...   ...  ..      ...   \n",
       "3956        3956          Mac Etienne                 UCLA   P12  13     11.0   \n",
       "3957        3957           Ryan Woods  Arkansas Pine Bluff  SWAC   7      2.8   \n",
       "3959        3959   Lysander Rehnstrom                 Navy   Pat   2      0.3   \n",
       "3960        3960           Trey James                 Iona  MAAC   2      0.8   \n",
       "3965        3965   Stavros Polatoglou     Northwestern St.  Slnd   4      1.3   \n",
       "\n",
       "       Ortg   usg   eFG  TS_per  ...      dgbpm    oreb    dreb    treb  \\\n",
       "0      61.1  18.6  34.7   35.18  ...  -4.412530  0.2727  1.4545  1.7273   \n",
       "1     103.1  21.5  54.0   56.12  ...  -1.019000  1.0435  2.8696  3.9130   \n",
       "2     108.6  26.5  54.3   58.88  ...  -0.335789  2.3500  3.5500  5.9000   \n",
       "3     116.0  20.8  55.2   58.61  ...   1.721580  1.1250  4.7188  5.8438   \n",
       "4      95.1  14.7  46.3   48.72  ...   2.746770  1.1034  1.9655  3.0690   \n",
       "...     ...   ...   ...     ...  ...        ...     ...     ...     ...   \n",
       "3956   99.1  15.1  60.0   55.37  ...   0.799673  0.9231  1.9231  2.8462   \n",
       "3957   90.1  14.7  70.0   58.82  ...   1.929770  0.0000  0.0000  0.0000   \n",
       "3959    0.0  32.2   0.0    0.00  ... -13.826600  0.0000  0.0000  0.0000   \n",
       "3960   45.9  29.9   0.0   52.63  ...  -5.286060  0.5000  0.5000  1.0000   \n",
       "3965   28.3   7.1   0.0    0.00  ...  -4.993820  0.2500  0.0000  0.2500   \n",
       "\n",
       "         ast     stl     blk      pts  Unnamed: 64  Unnamed: 65  \n",
       "0     0.4545  0.1818  0.0000   2.3636       Wing G    12.226400  \n",
       "1     1.1739  0.8261  0.0870  14.3043       Wing G    11.095900  \n",
       "2     1.1500  1.2500  0.2000  16.3500       Wing G     0.284581  \n",
       "3     0.9062  0.5938  0.0625  10.8125    Stretch 4    10.140700  \n",
       "4     0.8276  0.8276  0.2414   3.6552       Wing F     2.562430  \n",
       "...      ...     ...     ...      ...          ...          ...  \n",
       "3956  0.2308  0.1538  0.1538   2.6154            C     0.000000  \n",
       "3957  0.2857  0.4286  0.0000   1.0000      Pure PG     4.113400  \n",
       "3959  0.0000  0.0000  0.0000   0.0000         PF/C    22.228300  \n",
       "3960  0.0000  0.0000  0.0000   0.5000            C     0.000000  \n",
       "3965  0.0000  0.0000  0.0000   0.0000            C     0.000000  \n",
       "\n",
       "[3400 rows x 66 columns]"
      ]
     },
     "execution_count": 18,
     "metadata": {},
     "output_type": "execute_result"
    }
   ],
   "source": [
    "predroppedstats =potentialdraft_df.dropna(axis=0, subset=[\"pts\", \"treb\", \"ast\", \"stl\", \"blk\",\"ast/tov\", \"mp\", \"FT_per\", \"eFG\"])\n",
    "predroppedstats"
   ]
  },
  {
   "cell_type": "code",
   "execution_count": 19,
   "id": "94f5271d",
   "metadata": {},
   "outputs": [
    {
     "ename": "NameError",
     "evalue": "name 'draftpredictions' is not defined",
     "output_type": "error",
     "traceback": [
      "\u001b[1;31m---------------------------------------------------------------------------\u001b[0m",
      "\u001b[1;31mNameError\u001b[0m                                 Traceback (most recent call last)",
      "\u001b[1;32m<ipython-input-19-16eefe040ad6>\u001b[0m in \u001b[0;36m<module>\u001b[1;34m\u001b[0m\n\u001b[1;32m----> 1\u001b[1;33m \u001b[0mOutput\u001b[0m \u001b[1;33m=\u001b[0m \u001b[0mpd\u001b[0m\u001b[1;33m.\u001b[0m\u001b[0mDataFrame\u001b[0m\u001b[1;33m(\u001b[0m\u001b[1;33m{\u001b[0m\u001b[1;34m\"Player Name\"\u001b[0m\u001b[1;33m:\u001b[0m \u001b[0mpredroppedstats\u001b[0m\u001b[1;33m.\u001b[0m\u001b[0mplayer_name\u001b[0m\u001b[1;33m,\u001b[0m \u001b[1;34m\"Drafted?\"\u001b[0m\u001b[1;33m:\u001b[0m \u001b[0mdraftpredictions\u001b[0m\u001b[1;33m}\u001b[0m\u001b[1;33m)\u001b[0m\u001b[1;33m\u001b[0m\u001b[1;33m\u001b[0m\u001b[0m\n\u001b[0m\u001b[0;32m      2\u001b[0m \u001b[0mOutput\u001b[0m\u001b[1;33m[\u001b[0m\u001b[1;34m\"Drafted?\"\u001b[0m\u001b[1;33m]\u001b[0m\u001b[1;33m.\u001b[0m\u001b[0mvalue_counts\u001b[0m\u001b[1;33m(\u001b[0m\u001b[1;33m)\u001b[0m\u001b[1;33m\u001b[0m\u001b[1;33m\u001b[0m\u001b[0m\n",
      "\u001b[1;31mNameError\u001b[0m: name 'draftpredictions' is not defined"
     ]
    }
   ],
   "source": [
    "Output = pd.DataFrame({\"Player Name\": predroppedstats.player_name, \"Drafted?\": draftpredictions})\n",
    "Output[\"Drafted?\"].value_counts()"
   ]
  },
  {
   "cell_type": "code",
   "execution_count": 20,
   "id": "b4da9e47",
   "metadata": {},
   "outputs": [
    {
     "data": {
      "text/plain": [
       "array([[0.782, 0.218],\n",
       "       [0.48 , 0.52 ],\n",
       "       [0.472, 0.528],\n",
       "       ...,\n",
       "       [0.992, 0.008],\n",
       "       [0.986, 0.014],\n",
       "       [0.982, 0.018]])"
      ]
     },
     "execution_count": 20,
     "metadata": {},
     "output_type": "execute_result"
    }
   ],
   "source": [
    "stats = [\"pts\", \"treb\", \"ast\", \"stl\", \"blk\",\"ast/tov\", \"mp\", \"FT_per\", \"eFG\"]\n",
    "X_test= predroppedstats[stats]\n",
    "draftpredictions = rcf.predict_proba(X_test)\n",
    "draftpredictions\n"
   ]
  },
  {
   "cell_type": "code",
   "execution_count": 21,
   "id": "628531ac",
   "metadata": {},
   "outputs": [],
   "source": [
    "listed = draftpredictions.tolist()"
   ]
  },
  {
   "cell_type": "code",
   "execution_count": 28,
   "id": "fac08b30",
   "metadata": {},
   "outputs": [
    {
     "data": {
      "text/html": [
       "<div>\n",
       "<style scoped>\n",
       "    .dataframe tbody tr th:only-of-type {\n",
       "        vertical-align: middle;\n",
       "    }\n",
       "\n",
       "    .dataframe tbody tr th {\n",
       "        vertical-align: top;\n",
       "    }\n",
       "\n",
       "    .dataframe thead th {\n",
       "        text-align: right;\n",
       "    }\n",
       "</style>\n",
       "<table border=\"1\" class=\"dataframe\">\n",
       "  <thead>\n",
       "    <tr style=\"text-align: right;\">\n",
       "      <th></th>\n",
       "      <th>Yesdraft</th>\n",
       "      <th>Nodraft</th>\n",
       "      <th>Player</th>\n",
       "    </tr>\n",
       "  </thead>\n",
       "  <tbody>\n",
       "    <tr>\n",
       "      <th>0</th>\n",
       "      <td>0.782</td>\n",
       "      <td>0.218</td>\n",
       "      <td>Isaiah Felder</td>\n",
       "    </tr>\n",
       "    <tr>\n",
       "      <th>1</th>\n",
       "      <td>0.480</td>\n",
       "      <td>0.520</td>\n",
       "      <td>Jalen Coleman-Lands</td>\n",
       "    </tr>\n",
       "    <tr>\n",
       "      <th>2</th>\n",
       "      <td>0.472</td>\n",
       "      <td>0.528</td>\n",
       "      <td>K.J. Walton</td>\n",
       "    </tr>\n",
       "    <tr>\n",
       "      <th>3</th>\n",
       "      <td>0.462</td>\n",
       "      <td>0.538</td>\n",
       "      <td>Jeriah Horne</td>\n",
       "    </tr>\n",
       "    <tr>\n",
       "      <th>4</th>\n",
       "      <td>0.512</td>\n",
       "      <td>0.488</td>\n",
       "      <td>Eric Curry</td>\n",
       "    </tr>\n",
       "    <tr>\n",
       "      <th>...</th>\n",
       "      <td>...</td>\n",
       "      <td>...</td>\n",
       "      <td>...</td>\n",
       "    </tr>\n",
       "    <tr>\n",
       "      <th>3395</th>\n",
       "      <td>0.724</td>\n",
       "      <td>0.276</td>\n",
       "      <td>Noah Hupmann</td>\n",
       "    </tr>\n",
       "    <tr>\n",
       "      <th>3396</th>\n",
       "      <td>0.610</td>\n",
       "      <td>0.390</td>\n",
       "      <td>Zach Anderson</td>\n",
       "    </tr>\n",
       "    <tr>\n",
       "      <th>3397</th>\n",
       "      <td>0.992</td>\n",
       "      <td>0.008</td>\n",
       "      <td>Nate Johnson</td>\n",
       "    </tr>\n",
       "    <tr>\n",
       "      <th>3398</th>\n",
       "      <td>0.986</td>\n",
       "      <td>0.014</td>\n",
       "      <td>Jake Evans</td>\n",
       "    </tr>\n",
       "    <tr>\n",
       "      <th>3399</th>\n",
       "      <td>0.982</td>\n",
       "      <td>0.018</td>\n",
       "      <td>Jamel Horton</td>\n",
       "    </tr>\n",
       "  </tbody>\n",
       "</table>\n",
       "<p>3400 rows × 3 columns</p>\n",
       "</div>"
      ],
      "text/plain": [
       "      Yesdraft  Nodraft               Player\n",
       "0        0.782    0.218        Isaiah Felder\n",
       "1        0.480    0.520  Jalen Coleman-Lands\n",
       "2        0.472    0.528          K.J. Walton\n",
       "3        0.462    0.538         Jeriah Horne\n",
       "4        0.512    0.488           Eric Curry\n",
       "...        ...      ...                  ...\n",
       "3395     0.724    0.276         Noah Hupmann\n",
       "3396     0.610    0.390        Zach Anderson\n",
       "3397     0.992    0.008         Nate Johnson\n",
       "3398     0.986    0.014           Jake Evans\n",
       "3399     0.982    0.018         Jamel Horton\n",
       "\n",
       "[3400 rows x 3 columns]"
      ]
     },
     "execution_count": 28,
     "metadata": {},
     "output_type": "execute_result"
    }
   ],
   "source": [
    "Output = pd.DataFrame(draftpredictions, columns=[\"Yesdraft\",\"Nodraft\"])\n",
    "Output[\"Player\"] = predroppedstats[\"player_name\"]\n",
    "Output"
   ]
  },
  {
   "cell_type": "code",
   "execution_count": 23,
   "id": "9ee47460",
   "metadata": {},
   "outputs": [
    {
     "data": {
      "text/plain": [
       "Yesdraft     int32\n",
       "Nodraft      int32\n",
       "Player      object\n",
       "dtype: object"
      ]
     },
     "execution_count": 23,
     "metadata": {},
     "output_type": "execute_result"
    }
   ],
   "source": [
    "#Output_V= Output[\"Yesdraft\"].astype(int)\n",
    "#Output_M= Output[\"Nodraft\"].astype(int)\n",
    "#Output[\"Yesdraft\"] = Output_V\n",
    "#Output[\"Nodraft\"] = Output_M\n",
    "#Output.dtypes"
   ]
  },
  {
   "cell_type": "code",
   "execution_count": 29,
   "id": "83deaa17",
   "metadata": {},
   "outputs": [
    {
     "data": {
      "text/html": [
       "<div>\n",
       "<style scoped>\n",
       "    .dataframe tbody tr th:only-of-type {\n",
       "        vertical-align: middle;\n",
       "    }\n",
       "\n",
       "    .dataframe tbody tr th {\n",
       "        vertical-align: top;\n",
       "    }\n",
       "\n",
       "    .dataframe thead th {\n",
       "        text-align: right;\n",
       "    }\n",
       "</style>\n",
       "<table border=\"1\" class=\"dataframe\">\n",
       "  <thead>\n",
       "    <tr style=\"text-align: right;\">\n",
       "      <th></th>\n",
       "      <th>Yesdraft</th>\n",
       "      <th>Nodraft</th>\n",
       "      <th>Player</th>\n",
       "    </tr>\n",
       "  </thead>\n",
       "  <tbody>\n",
       "    <tr>\n",
       "      <th>0</th>\n",
       "      <td>0.782</td>\n",
       "      <td>0.218</td>\n",
       "      <td>Isaiah Felder</td>\n",
       "    </tr>\n",
       "    <tr>\n",
       "      <th>1</th>\n",
       "      <td>0.480</td>\n",
       "      <td>0.520</td>\n",
       "      <td>Jalen Coleman-Lands</td>\n",
       "    </tr>\n",
       "    <tr>\n",
       "      <th>2</th>\n",
       "      <td>0.472</td>\n",
       "      <td>0.528</td>\n",
       "      <td>K.J. Walton</td>\n",
       "    </tr>\n",
       "    <tr>\n",
       "      <th>3</th>\n",
       "      <td>0.462</td>\n",
       "      <td>0.538</td>\n",
       "      <td>Jeriah Horne</td>\n",
       "    </tr>\n",
       "    <tr>\n",
       "      <th>4</th>\n",
       "      <td>0.512</td>\n",
       "      <td>0.488</td>\n",
       "      <td>Eric Curry</td>\n",
       "    </tr>\n",
       "    <tr>\n",
       "      <th>...</th>\n",
       "      <td>...</td>\n",
       "      <td>...</td>\n",
       "      <td>...</td>\n",
       "    </tr>\n",
       "    <tr>\n",
       "      <th>3395</th>\n",
       "      <td>0.724</td>\n",
       "      <td>0.276</td>\n",
       "      <td>Noah Hupmann</td>\n",
       "    </tr>\n",
       "    <tr>\n",
       "      <th>3396</th>\n",
       "      <td>0.610</td>\n",
       "      <td>0.390</td>\n",
       "      <td>Zach Anderson</td>\n",
       "    </tr>\n",
       "    <tr>\n",
       "      <th>3397</th>\n",
       "      <td>0.992</td>\n",
       "      <td>0.008</td>\n",
       "      <td>Nate Johnson</td>\n",
       "    </tr>\n",
       "    <tr>\n",
       "      <th>3398</th>\n",
       "      <td>0.986</td>\n",
       "      <td>0.014</td>\n",
       "      <td>Jake Evans</td>\n",
       "    </tr>\n",
       "    <tr>\n",
       "      <th>3399</th>\n",
       "      <td>0.982</td>\n",
       "      <td>0.018</td>\n",
       "      <td>Jamel Horton</td>\n",
       "    </tr>\n",
       "  </tbody>\n",
       "</table>\n",
       "<p>3400 rows × 3 columns</p>\n",
       "</div>"
      ],
      "text/plain": [
       "      Yesdraft  Nodraft               Player\n",
       "0        0.782    0.218        Isaiah Felder\n",
       "1        0.480    0.520  Jalen Coleman-Lands\n",
       "2        0.472    0.528          K.J. Walton\n",
       "3        0.462    0.538         Jeriah Horne\n",
       "4        0.512    0.488           Eric Curry\n",
       "...        ...      ...                  ...\n",
       "3395     0.724    0.276         Noah Hupmann\n",
       "3396     0.610    0.390        Zach Anderson\n",
       "3397     0.992    0.008         Nate Johnson\n",
       "3398     0.986    0.014           Jake Evans\n",
       "3399     0.982    0.018         Jamel Horton\n",
       "\n",
       "[3400 rows x 3 columns]"
      ]
     },
     "execution_count": 29,
     "metadata": {},
     "output_type": "execute_result"
    }
   ],
   "source": [
    "Output"
   ]
  },
  {
   "cell_type": "code",
   "execution_count": 25,
   "id": "75cad766",
   "metadata": {},
   "outputs": [
    {
     "data": {
      "text/plain": [
       "<AxesSubplot:>"
      ]
     },
     "execution_count": 25,
     "metadata": {},
     "output_type": "execute_result"
    },
    {
     "data": {
      "image/png": "[encoded data removed]",
      "text/plain": [
       "<Figure size 432x288 with 1 Axes>"
      ]
     },
     "metadata": {
      "needs_background": "light"
     },
     "output_type": "display_data"
    }
   ],
   "source": [
    "pd.Series(rcf.predict_proba(X_test)[:,0]).hist()"
   ]
  },
  {
   "cell_type": "code",
   "execution_count": 30,
   "id": "27fbebd5",
   "metadata": {},
   "outputs": [],
   "source": [
    "Output.to_csv(\"DraftProbabilities.csv\")"
   ]
  },
  {
   "cell_type": "code",
   "execution_count": 37,
   "id": "8f1ffc4e",
   "metadata": {},
   "outputs": [
    {
     "data": {
      "text/plain": [
       "False    3333\n",
       "True       67\n",
       "Name: Yesdraft, dtype: int64"
      ]
     },
     "execution_count": 37,
     "metadata": {},
     "output_type": "execute_result"
    }
   ],
   "source": [
    "#0.97 yields us approximately 60(ish) drafted players \n",
    "(Output[\"Yesdraft\"] > 0.97).value_counts()"
   ]
  },
  {
   "cell_type": "code",
   "execution_count": null,
   "id": "c9bf29d7",
   "metadata": {},
   "outputs": [],
   "source": [
    "pd.Series(draftpredictions).value_counts()"
   ]
  },
  {
   "cell_type": "code",
   "execution_count": 38,
   "id": "58f8ddc0",
   "metadata": {
    "scrolled": true
   },
   "outputs": [
    {
     "data": {
      "text/plain": [
       "<AxesSubplot:>"
      ]
     },
     "execution_count": 38,
     "metadata": {},
     "output_type": "execute_result"
    },
    {
     "data": {
      "image/png": "[encoded data removed]",
      "text/plain": [
       "<Figure size 432x288 with 1 Axes>"
      ]
     },
     "metadata": {
      "needs_background": "light"
     },
     "output_type": "display_data"
    }
   ],
   "source": [
    "#Precission Recall Curve\n",
    "pd.Series(rcf.predict_proba(X_test_scaled)[:,1]).hist()\n"
   ]
  },
  {
   "cell_type": "code",
   "execution_count": 40,
   "id": "d69295be",
   "metadata": {},
   "outputs": [
    {
     "ename": "ValueError",
     "evalue": "continuous-multioutput format is not supported",
     "output_type": "error",
     "traceback": [
      "\u001b[1;31m---------------------------------------------------------------------------\u001b[0m",
      "\u001b[1;31mValueError\u001b[0m                                Traceback (most recent call last)",
      "\u001b[1;32m<ipython-input-40-ca664da8cbf7>\u001b[0m in \u001b[0;36m<module>\u001b[1;34m\u001b[0m\n\u001b[0;32m      2\u001b[0m \u001b[1;32mfrom\u001b[0m \u001b[0msklearn\u001b[0m\u001b[1;33m.\u001b[0m\u001b[0mmetrics\u001b[0m \u001b[1;32mimport\u001b[0m \u001b[0mPrecisionRecallDisplay\u001b[0m\u001b[1;33m\u001b[0m\u001b[1;33m\u001b[0m\u001b[0m\n\u001b[0;32m      3\u001b[0m \u001b[1;33m\u001b[0m\u001b[0m\n\u001b[1;32m----> 4\u001b[1;33m \u001b[0mprec\u001b[0m\u001b[1;33m,\u001b[0m \u001b[0mrecall\u001b[0m\u001b[1;33m,\u001b[0m \u001b[0m_\u001b[0m \u001b[1;33m=\u001b[0m \u001b[0mprecision_recall_curve\u001b[0m\u001b[1;33m(\u001b[0m\u001b[0mX_test\u001b[0m\u001b[1;33m,\u001b[0m \u001b[0mdraftpredictions\u001b[0m\u001b[1;33m)\u001b[0m\u001b[1;33m\u001b[0m\u001b[1;33m\u001b[0m\u001b[0m\n\u001b[0m\u001b[0;32m      5\u001b[0m \u001b[0mpr_display\u001b[0m \u001b[1;33m=\u001b[0m \u001b[0mPrecisionRecallDisplay\u001b[0m\u001b[1;33m(\u001b[0m\u001b[0mprecision\u001b[0m\u001b[1;33m=\u001b[0m\u001b[0mprec\u001b[0m\u001b[1;33m,\u001b[0m \u001b[0mrecall\u001b[0m\u001b[1;33m=\u001b[0m\u001b[0mrecall\u001b[0m\u001b[1;33m)\u001b[0m\u001b[1;33m.\u001b[0m\u001b[0mplot\u001b[0m\u001b[1;33m(\u001b[0m\u001b[1;33m)\u001b[0m\u001b[1;33m\u001b[0m\u001b[1;33m\u001b[0m\u001b[0m\n",
      "\u001b[1;32m~\\anaconda3\\lib\\site-packages\\sklearn\\utils\\validation.py\u001b[0m in \u001b[0;36minner_f\u001b[1;34m(*args, **kwargs)\u001b[0m\n\u001b[0;32m     61\u001b[0m             \u001b[0mextra_args\u001b[0m \u001b[1;33m=\u001b[0m \u001b[0mlen\u001b[0m\u001b[1;33m(\u001b[0m\u001b[0margs\u001b[0m\u001b[1;33m)\u001b[0m \u001b[1;33m-\u001b[0m \u001b[0mlen\u001b[0m\u001b[1;33m(\u001b[0m\u001b[0mall_args\u001b[0m\u001b[1;33m)\u001b[0m\u001b[1;33m\u001b[0m\u001b[1;33m\u001b[0m\u001b[0m\n\u001b[0;32m     62\u001b[0m             \u001b[1;32mif\u001b[0m \u001b[0mextra_args\u001b[0m \u001b[1;33m<=\u001b[0m \u001b[1;36m0\u001b[0m\u001b[1;33m:\u001b[0m\u001b[1;33m\u001b[0m\u001b[1;33m\u001b[0m\u001b[0m\n\u001b[1;32m---> 63\u001b[1;33m                 \u001b[1;32mreturn\u001b[0m \u001b[0mf\u001b[0m\u001b[1;33m(\u001b[0m\u001b[1;33m*\u001b[0m\u001b[0margs\u001b[0m\u001b[1;33m,\u001b[0m \u001b[1;33m**\u001b[0m\u001b[0mkwargs\u001b[0m\u001b[1;33m)\u001b[0m\u001b[1;33m\u001b[0m\u001b[1;33m\u001b[0m\u001b[0m\n\u001b[0m\u001b[0;32m     64\u001b[0m \u001b[1;33m\u001b[0m\u001b[0m\n\u001b[0;32m     65\u001b[0m             \u001b[1;31m# extra_args > 0\u001b[0m\u001b[1;33m\u001b[0m\u001b[1;33m\u001b[0m\u001b[1;33m\u001b[0m\u001b[0m\n",
      "\u001b[1;32m~\\anaconda3\\lib\\site-packages\\sklearn\\metrics\\_ranking.py\u001b[0m in \u001b[0;36mprecision_recall_curve\u001b[1;34m(y_true, probas_pred, pos_label, sample_weight)\u001b[0m\n\u001b[0;32m    809\u001b[0m \u001b[1;33m\u001b[0m\u001b[0m\n\u001b[0;32m    810\u001b[0m     \"\"\"\n\u001b[1;32m--> 811\u001b[1;33m     fps, tps, thresholds = _binary_clf_curve(y_true, probas_pred,\n\u001b[0m\u001b[0;32m    812\u001b[0m                                              \u001b[0mpos_label\u001b[0m\u001b[1;33m=\u001b[0m\u001b[0mpos_label\u001b[0m\u001b[1;33m,\u001b[0m\u001b[1;33m\u001b[0m\u001b[1;33m\u001b[0m\u001b[0m\n\u001b[0;32m    813\u001b[0m                                              sample_weight=sample_weight)\n",
      "\u001b[1;32m~\\anaconda3\\lib\\site-packages\\sklearn\\metrics\\_ranking.py\u001b[0m in \u001b[0;36m_binary_clf_curve\u001b[1;34m(y_true, y_score, pos_label, sample_weight)\u001b[0m\n\u001b[0;32m    689\u001b[0m     if not (y_type == \"binary\" or\n\u001b[0;32m    690\u001b[0m             (y_type == \"multiclass\" and pos_label is not None)):\n\u001b[1;32m--> 691\u001b[1;33m         \u001b[1;32mraise\u001b[0m \u001b[0mValueError\u001b[0m\u001b[1;33m(\u001b[0m\u001b[1;34m\"{0} format is not supported\"\u001b[0m\u001b[1;33m.\u001b[0m\u001b[0mformat\u001b[0m\u001b[1;33m(\u001b[0m\u001b[0my_type\u001b[0m\u001b[1;33m)\u001b[0m\u001b[1;33m)\u001b[0m\u001b[1;33m\u001b[0m\u001b[1;33m\u001b[0m\u001b[0m\n\u001b[0m\u001b[0;32m    692\u001b[0m \u001b[1;33m\u001b[0m\u001b[0m\n\u001b[0;32m    693\u001b[0m     \u001b[0mcheck_consistent_length\u001b[0m\u001b[1;33m(\u001b[0m\u001b[0my_true\u001b[0m\u001b[1;33m,\u001b[0m \u001b[0my_score\u001b[0m\u001b[1;33m,\u001b[0m \u001b[0msample_weight\u001b[0m\u001b[1;33m)\u001b[0m\u001b[1;33m\u001b[0m\u001b[1;33m\u001b[0m\u001b[0m\n",
      "\u001b[1;31mValueError\u001b[0m: continuous-multioutput format is not supported"
     ]
    }
   ],
   "source": [
    "from sklearn.metrics import precision_recall_curve\n",
    "from sklearn.metrics import PrecisionRecallDisplay\n",
    "\n",
    "prec, recall, _ = precision_recall_curve(X_test, draftpredictions)\n",
    "pr_display = PrecisionRecallDisplay(precision=prec, recall=recall).plot()\n"
   ]
  },
  {
   "cell_type": "code",
   "execution_count": null,
   "id": "90273f95",
   "metadata": {},
   "outputs": [],
   "source": [
    "X_test"
   ]
  },
  {
   "cell_type": "code",
   "execution_count": null,
   "id": "b260b140",
   "metadata": {},
   "outputs": [],
   "source": []
  }
 ],
 "metadata": {
  "kernelspec": {
   "display_name": "Python 3",
   "language": "python",
   "name": "python3"
  },
  "language_info": {
   "codemirror_mode": {
    "name": "ipython",
    "version": 3
   },
   "file_extension": ".py",
   "mimetype": "text/x-python",
   "name": "python",
   "nbconvert_exporter": "python",
   "pygments_lexer": "ipython3",
   "version": "3.8.8"
  }
 },
 "nbformat": 4,
 "nbformat_minor": 5
}
